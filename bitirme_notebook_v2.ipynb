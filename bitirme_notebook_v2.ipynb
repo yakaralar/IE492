{
  "nbformat": 4,
  "nbformat_minor": 0,
  "metadata": {
    "colab": {
      "name": "bitirme-notebook-v2.ipynb",
      "provenance": [],
      "collapsed_sections": [],
      "machine_shape": "hm",
      "authorship_tag": "ABX9TyNDQY4auz9EhssWNkXC1Ktp",
      "include_colab_link": true
    },
    "kernelspec": {
      "name": "python3",
      "display_name": "Python 3"
    }
  },
  "cells": [
    {
      "cell_type": "markdown",
      "metadata": {
        "id": "view-in-github",
        "colab_type": "text"
      },
      "source": [
        "<a href=\"https://colab.research.google.com/github/yakaralar/IE492/blob/master/bitirme_notebook_v2.ipynb\" target=\"_parent\"><img src=\"https://colab.research.google.com/assets/colab-badge.svg\" alt=\"Open In Colab\"/></a>"
      ]
    },
    {
      "cell_type": "code",
      "metadata": {
        "id": "Ft4NbPsAQuwV",
        "colab_type": "code",
        "outputId": "bbbab191-df5c-42f5-fcf7-0fec8f74fc1a",
        "colab": {
          "base_uri": "https://localhost:8080/",
          "height": 122
        }
      },
      "source": [
        "from google.colab import drive\n",
        "drive.mount('/content/drive')"
      ],
      "execution_count": 0,
      "outputs": [
        {
          "output_type": "stream",
          "text": [
            "Go to this URL in a browser: https://accounts.google.com/o/oauth2/auth?client_id=947318989803-6bn6qk8qdgf4n4g3pfee6491hc0brc4i.apps.googleusercontent.com&redirect_uri=urn%3aietf%3awg%3aoauth%3a2.0%3aoob&response_type=code&scope=email%20https%3a%2f%2fwww.googleapis.com%2fauth%2fdocs.test%20https%3a%2f%2fwww.googleapis.com%2fauth%2fdrive%20https%3a%2f%2fwww.googleapis.com%2fauth%2fdrive.photos.readonly%20https%3a%2f%2fwww.googleapis.com%2fauth%2fpeopleapi.readonly\n",
            "\n",
            "Enter your authorization code:\n",
            "··········\n",
            "Mounted at /content/drive\n"
          ],
          "name": "stdout"
        }
      ]
    },
    {
      "cell_type": "code",
      "metadata": {
        "id": "yK3GPaa0QwDD",
        "colab_type": "code",
        "outputId": "a13a396a-1715-41cf-a635-dabecbffb932",
        "colab": {
          "base_uri": "https://localhost:8080/",
          "height": 34
        }
      },
      "source": [
        "import os\n",
        "import glob\n",
        "import shutil\n",
        "os.listdir()"
      ],
      "execution_count": 0,
      "outputs": [
        {
          "output_type": "execute_result",
          "data": {
            "text/plain": [
              "['.config', 'drive', 'sample_data']"
            ]
          },
          "metadata": {
            "tags": []
          },
          "execution_count": 2
        }
      ]
    },
    {
      "cell_type": "code",
      "metadata": {
        "id": "TPLzo_LnTLhg",
        "colab_type": "code",
        "colab": {}
      },
      "source": [
        "shutil.copy(\"drive/My Drive/colab_datas/IE 492/weather_turkey_processed.zip\",\"./\")\n",
        "!unzip weather_turkey_processed.zip"
      ],
      "execution_count": 0,
      "outputs": []
    },
    {
      "cell_type": "code",
      "metadata": {
        "id": "-TB8bqSn7p-P",
        "colab_type": "code",
        "outputId": "22898eca-70fa-43be-81e1-05458c0a857b",
        "colab": {
          "base_uri": "https://localhost:8080/",
          "height": 34
        }
      },
      "source": [
        "shutil.copy(\"drive/My Drive/colab_datas/IE 492/UECM-15012015-20022020.csv\",\"./\")\n",
        "shutil.copy(\"drive/My Drive/colab_datas/IE 492/RealTimeConsumption-01122014-09032020.csv\",\"./\")\n",
        "shutil.copy(\"drive/My Drive/colab_datas/IE 492/all_data.feather\",\"./\")"
      ],
      "execution_count": 0,
      "outputs": [
        {
          "output_type": "execute_result",
          "data": {
            "text/plain": [
              "'./all_data.feather'"
            ]
          },
          "metadata": {
            "tags": []
          },
          "execution_count": 4
        }
      ]
    },
    {
      "cell_type": "code",
      "metadata": {
        "id": "LCPdXyGqUP1B",
        "colab_type": "code",
        "colab": {}
      },
      "source": [
        "import pandas as pd\n",
        "import numpy as np\n",
        "import matplotlib.pyplot as plt\n",
        "import seaborn as sns\n",
        "import pandas_profiling\n",
        "%matplotlib inline\n",
        "from tqdm import tqdm_notebook as tqdm"
      ],
      "execution_count": 0,
      "outputs": []
    },
    {
      "cell_type": "code",
      "metadata": {
        "id": "Vl2rK8m6Ujlw",
        "colab_type": "code",
        "outputId": "62d03528-57e3-4213-d249-879a76e141cc",
        "colab": {
          "base_uri": "https://localhost:8080/",
          "height": 187
        }
      },
      "source": [
        "weather_paths=glob.glob(\"weather_turkey_processed/*.csv\")\n",
        "np.random.choice(weather_paths,10)"
      ],
      "execution_count": 0,
      "outputs": [
        {
          "output_type": "execute_result",
          "data": {
            "text/plain": [
              "array(['weather_turkey_processed/36_35.csv',\n",
              "       'weather_turkey_processed/41.5_36.5.csv',\n",
              "       'weather_turkey_processed/41_40.5.csv',\n",
              "       'weather_turkey_processed/40.5_45.csv',\n",
              "       'weather_turkey_processed/38_28.5.csv',\n",
              "       'weather_turkey_processed/38_42.5.csv',\n",
              "       'weather_turkey_processed/40.5_34.csv',\n",
              "       'weather_turkey_processed/41_29.5.csv',\n",
              "       'weather_turkey_processed/37_27.csv',\n",
              "       'weather_turkey_processed/41_33.csv'], dtype='<U38')"
            ]
          },
          "metadata": {
            "tags": []
          },
          "execution_count": 85
        }
      ]
    },
    {
      "cell_type": "code",
      "metadata": {
        "id": "SYevjPiRU2LV",
        "colab_type": "code",
        "colab": {}
      },
      "source": [
        "# weather_turkey=pd.DataFrame()\n",
        "# for path in tqdm(weather_paths):\n",
        "#     df=pd.read_csv(path)\n",
        "#     weather_turkey=pd.concat([weather_turkey,df]).reset_index(drop=True)\n",
        "# weather_turkey"
      ],
      "execution_count": 0,
      "outputs": []
    },
    {
      "cell_type": "code",
      "metadata": {
        "id": "m16Pz8p9l8yD",
        "colab_type": "code",
        "colab": {}
      },
      "source": [
        "# weather_turkey.to_feather(\"drive/My Drive/colab_datas/IE 492/all_data.feather\") "
      ],
      "execution_count": 0,
      "outputs": []
    },
    {
      "cell_type": "markdown",
      "metadata": {
        "id": "E-Q_wxy78m8p",
        "colab_type": "text"
      },
      "source": [
        "# Energy consumption"
      ]
    },
    {
      "cell_type": "code",
      "metadata": {
        "id": "4R4DsfniC1dT",
        "colab_type": "code",
        "outputId": "7586d047-36f1-41bd-b0bd-5c7152b76ce4",
        "colab": {
          "base_uri": "https://localhost:8080/",
          "height": 419
        }
      },
      "source": [
        "consumption_df=pd.read_csv(\"RealTimeConsumption-01122014-09032020.csv\",encoding='latin-1')\n",
        "consumption_df.columns=[\"Date\",\"Hour\",\"Consumption\"]\n",
        "consumption_df[\"Datetime\"]=consumption_df[\"Date\"]+\" \"+consumption_df[\"Hour\"]\n",
        "consumption_df[\"Consumption\"]=consumption_df[\"Consumption\"].apply(lambda x:x.replace(\",\",\"\")).astype(float)\n",
        "consumption_df[\"Datetime\"]=pd.to_datetime(consumption_df[\"Datetime\"])\n",
        "consumption_df"
      ],
      "execution_count": 0,
      "outputs": [
        {
          "output_type": "execute_result",
          "data": {
            "text/html": [
              "<div>\n",
              "<style scoped>\n",
              "    .dataframe tbody tr th:only-of-type {\n",
              "        vertical-align: middle;\n",
              "    }\n",
              "\n",
              "    .dataframe tbody tr th {\n",
              "        vertical-align: top;\n",
              "    }\n",
              "\n",
              "    .dataframe thead th {\n",
              "        text-align: right;\n",
              "    }\n",
              "</style>\n",
              "<table border=\"1\" class=\"dataframe\">\n",
              "  <thead>\n",
              "    <tr style=\"text-align: right;\">\n",
              "      <th></th>\n",
              "      <th>Date</th>\n",
              "      <th>Hour</th>\n",
              "      <th>Consumption</th>\n",
              "      <th>Datetime</th>\n",
              "    </tr>\n",
              "  </thead>\n",
              "  <tbody>\n",
              "    <tr>\n",
              "      <th>0</th>\n",
              "      <td>31.12.2015</td>\n",
              "      <td>00:00</td>\n",
              "      <td>29590.88</td>\n",
              "      <td>2015-12-31 00:00:00</td>\n",
              "    </tr>\n",
              "    <tr>\n",
              "      <th>1</th>\n",
              "      <td>31.12.2015</td>\n",
              "      <td>01:00</td>\n",
              "      <td>27785.43</td>\n",
              "      <td>2015-12-31 01:00:00</td>\n",
              "    </tr>\n",
              "    <tr>\n",
              "      <th>2</th>\n",
              "      <td>31.12.2015</td>\n",
              "      <td>02:00</td>\n",
              "      <td>26516.53</td>\n",
              "      <td>2015-12-31 02:00:00</td>\n",
              "    </tr>\n",
              "    <tr>\n",
              "      <th>3</th>\n",
              "      <td>31.12.2015</td>\n",
              "      <td>03:00</td>\n",
              "      <td>26091.62</td>\n",
              "      <td>2015-12-31 03:00:00</td>\n",
              "    </tr>\n",
              "    <tr>\n",
              "      <th>4</th>\n",
              "      <td>31.12.2015</td>\n",
              "      <td>04:00</td>\n",
              "      <td>25871.54</td>\n",
              "      <td>2015-12-31 04:00:00</td>\n",
              "    </tr>\n",
              "    <tr>\n",
              "      <th>...</th>\n",
              "      <td>...</td>\n",
              "      <td>...</td>\n",
              "      <td>...</td>\n",
              "      <td>...</td>\n",
              "    </tr>\n",
              "    <tr>\n",
              "      <th>36715</th>\n",
              "      <td>09.03.2020</td>\n",
              "      <td>19:00</td>\n",
              "      <td>0.00</td>\n",
              "      <td>2020-09-03 19:00:00</td>\n",
              "    </tr>\n",
              "    <tr>\n",
              "      <th>36716</th>\n",
              "      <td>09.03.2020</td>\n",
              "      <td>20:00</td>\n",
              "      <td>0.00</td>\n",
              "      <td>2020-09-03 20:00:00</td>\n",
              "    </tr>\n",
              "    <tr>\n",
              "      <th>36717</th>\n",
              "      <td>09.03.2020</td>\n",
              "      <td>21:00</td>\n",
              "      <td>0.00</td>\n",
              "      <td>2020-09-03 21:00:00</td>\n",
              "    </tr>\n",
              "    <tr>\n",
              "      <th>36718</th>\n",
              "      <td>09.03.2020</td>\n",
              "      <td>22:00</td>\n",
              "      <td>0.00</td>\n",
              "      <td>2020-09-03 22:00:00</td>\n",
              "    </tr>\n",
              "    <tr>\n",
              "      <th>36719</th>\n",
              "      <td>09.03.2020</td>\n",
              "      <td>23:00</td>\n",
              "      <td>0.00</td>\n",
              "      <td>2020-09-03 23:00:00</td>\n",
              "    </tr>\n",
              "  </tbody>\n",
              "</table>\n",
              "<p>36720 rows × 4 columns</p>\n",
              "</div>"
            ],
            "text/plain": [
              "             Date   Hour  Consumption            Datetime\n",
              "0      31.12.2015  00:00     29590.88 2015-12-31 00:00:00\n",
              "1      31.12.2015  01:00     27785.43 2015-12-31 01:00:00\n",
              "2      31.12.2015  02:00     26516.53 2015-12-31 02:00:00\n",
              "3      31.12.2015  03:00     26091.62 2015-12-31 03:00:00\n",
              "4      31.12.2015  04:00     25871.54 2015-12-31 04:00:00\n",
              "...           ...    ...          ...                 ...\n",
              "36715  09.03.2020  19:00         0.00 2020-09-03 19:00:00\n",
              "36716  09.03.2020  20:00         0.00 2020-09-03 20:00:00\n",
              "36717  09.03.2020  21:00         0.00 2020-09-03 21:00:00\n",
              "36718  09.03.2020  22:00         0.00 2020-09-03 22:00:00\n",
              "36719  09.03.2020  23:00         0.00 2020-09-03 23:00:00\n",
              "\n",
              "[36720 rows x 4 columns]"
            ]
          },
          "metadata": {
            "tags": []
          },
          "execution_count": 179
        }
      ]
    },
    {
      "cell_type": "code",
      "metadata": {
        "id": "BeiWgeS98rLF",
        "colab_type": "code",
        "colab": {}
      },
      "source": [
        "## bruuuuuuuh\n",
        "#consumption_df=pd.read_csv(\"UECM-15012015-20022020.csv\",encoding='latin-1')\n",
        "#consumption_df.columns=[\"Date\",\"Hour\",\"Consumption\"]\n",
        "#consumption_df[\"Datetime\"]=consumption_df[\"Date\"]+\" \"+consumption_df[\"Hour\"]\n",
        "#consumption_df[\"Datetime\"]=pd.to_datetime(consumption_df[\"Datetime\"])\n",
        "#consumption_df.Consumption=consumption_df.Consumption.apply(lambda x: x.replace(\".\",\"\").replace(\",\",\".\")).astype(float)\n",
        "#consumption_df"
      ],
      "execution_count": 0,
      "outputs": []
    },
    {
      "cell_type": "code",
      "metadata": {
        "id": "qI8HdpyzD-1b",
        "colab_type": "code",
        "outputId": "f09966d0-065b-4f34-ff94-4a47302b3c83",
        "colab": {
          "base_uri": "https://localhost:8080/",
          "height": 419
        }
      },
      "source": [
        "consumption_df=consumption_df.loc[consumption_df[\"Datetime\"]<pd.to_datetime(\"2020-03-04 00:00:00\")]\n",
        "consumption_df"
      ],
      "execution_count": 0,
      "outputs": [
        {
          "output_type": "execute_result",
          "data": {
            "text/html": [
              "<div>\n",
              "<style scoped>\n",
              "    .dataframe tbody tr th:only-of-type {\n",
              "        vertical-align: middle;\n",
              "    }\n",
              "\n",
              "    .dataframe tbody tr th {\n",
              "        vertical-align: top;\n",
              "    }\n",
              "\n",
              "    .dataframe thead th {\n",
              "        text-align: right;\n",
              "    }\n",
              "</style>\n",
              "<table border=\"1\" class=\"dataframe\">\n",
              "  <thead>\n",
              "    <tr style=\"text-align: right;\">\n",
              "      <th></th>\n",
              "      <th>Date</th>\n",
              "      <th>Hour</th>\n",
              "      <th>Consumption</th>\n",
              "      <th>Datetime</th>\n",
              "    </tr>\n",
              "  </thead>\n",
              "  <tbody>\n",
              "    <tr>\n",
              "      <th>0</th>\n",
              "      <td>31.12.2015</td>\n",
              "      <td>00:00</td>\n",
              "      <td>29590.88</td>\n",
              "      <td>2015-12-31 00:00:00</td>\n",
              "    </tr>\n",
              "    <tr>\n",
              "      <th>1</th>\n",
              "      <td>31.12.2015</td>\n",
              "      <td>01:00</td>\n",
              "      <td>27785.43</td>\n",
              "      <td>2015-12-31 01:00:00</td>\n",
              "    </tr>\n",
              "    <tr>\n",
              "      <th>2</th>\n",
              "      <td>31.12.2015</td>\n",
              "      <td>02:00</td>\n",
              "      <td>26516.53</td>\n",
              "      <td>2015-12-31 02:00:00</td>\n",
              "    </tr>\n",
              "    <tr>\n",
              "      <th>3</th>\n",
              "      <td>31.12.2015</td>\n",
              "      <td>03:00</td>\n",
              "      <td>26091.62</td>\n",
              "      <td>2015-12-31 03:00:00</td>\n",
              "    </tr>\n",
              "    <tr>\n",
              "      <th>4</th>\n",
              "      <td>31.12.2015</td>\n",
              "      <td>04:00</td>\n",
              "      <td>25871.54</td>\n",
              "      <td>2015-12-31 04:00:00</td>\n",
              "    </tr>\n",
              "    <tr>\n",
              "      <th>...</th>\n",
              "      <td>...</td>\n",
              "      <td>...</td>\n",
              "      <td>...</td>\n",
              "      <td>...</td>\n",
              "    </tr>\n",
              "    <tr>\n",
              "      <th>36571</th>\n",
              "      <td>03.03.2020</td>\n",
              "      <td>19:00</td>\n",
              "      <td>37936.79</td>\n",
              "      <td>2020-03-03 19:00:00</td>\n",
              "    </tr>\n",
              "    <tr>\n",
              "      <th>36572</th>\n",
              "      <td>03.03.2020</td>\n",
              "      <td>20:00</td>\n",
              "      <td>37553.37</td>\n",
              "      <td>2020-03-03 20:00:00</td>\n",
              "    </tr>\n",
              "    <tr>\n",
              "      <th>36573</th>\n",
              "      <td>03.03.2020</td>\n",
              "      <td>21:00</td>\n",
              "      <td>36581.73</td>\n",
              "      <td>2020-03-03 21:00:00</td>\n",
              "    </tr>\n",
              "    <tr>\n",
              "      <th>36574</th>\n",
              "      <td>03.03.2020</td>\n",
              "      <td>22:00</td>\n",
              "      <td>35434.36</td>\n",
              "      <td>2020-03-03 22:00:00</td>\n",
              "    </tr>\n",
              "    <tr>\n",
              "      <th>36575</th>\n",
              "      <td>03.03.2020</td>\n",
              "      <td>23:00</td>\n",
              "      <td>33827.00</td>\n",
              "      <td>2020-03-03 23:00:00</td>\n",
              "    </tr>\n",
              "  </tbody>\n",
              "</table>\n",
              "<p>36144 rows × 4 columns</p>\n",
              "</div>"
            ],
            "text/plain": [
              "             Date   Hour  Consumption            Datetime\n",
              "0      31.12.2015  00:00     29590.88 2015-12-31 00:00:00\n",
              "1      31.12.2015  01:00     27785.43 2015-12-31 01:00:00\n",
              "2      31.12.2015  02:00     26516.53 2015-12-31 02:00:00\n",
              "3      31.12.2015  03:00     26091.62 2015-12-31 03:00:00\n",
              "4      31.12.2015  04:00     25871.54 2015-12-31 04:00:00\n",
              "...           ...    ...          ...                 ...\n",
              "36571  03.03.2020  19:00     37936.79 2020-03-03 19:00:00\n",
              "36572  03.03.2020  20:00     37553.37 2020-03-03 20:00:00\n",
              "36573  03.03.2020  21:00     36581.73 2020-03-03 21:00:00\n",
              "36574  03.03.2020  22:00     35434.36 2020-03-03 22:00:00\n",
              "36575  03.03.2020  23:00     33827.00 2020-03-03 23:00:00\n",
              "\n",
              "[36144 rows x 4 columns]"
            ]
          },
          "metadata": {
            "tags": []
          },
          "execution_count": 181
        }
      ]
    },
    {
      "cell_type": "markdown",
      "metadata": {
        "id": "aqQYr3oSUPCM",
        "colab_type": "text"
      },
      "source": [
        "# Evaluation function"
      ]
    },
    {
      "cell_type": "code",
      "metadata": {
        "id": "n3B6D2JQUD0T",
        "colab_type": "code",
        "colab": {}
      },
      "source": [
        "from sklearn.metrics import mean_squared_error,mean_squared_log_error,mean_absolute_error\n",
        "eval_df=[]\n",
        "def eval_function(name_,y_true, y_pred):\n",
        "    print(\"RMSE: \",np.sqrt(mean_squared_error(y_true,y_pred)))\n",
        "    print(\"RMSLE: \",np.sqrt(mean_squared_log_error(y_true,y_pred)))\n",
        "    print(\"MAE: \",mean_absolute_error(y_true,y_pred))\n",
        "    return name_, np.sqrt(mean_squared_error(y_true,y_pred)),np.sqrt(mean_squared_log_error(y_true,y_pred)),mean_absolute_error(y_true,y_pred)"
      ],
      "execution_count": 0,
      "outputs": []
    },
    {
      "cell_type": "markdown",
      "metadata": {
        "id": "IzYRM3PYVwq_",
        "colab_type": "text"
      },
      "source": [
        "# Naive Approach 2 Days"
      ]
    },
    {
      "cell_type": "code",
      "metadata": {
        "id": "tNNfmQcsYQpD",
        "colab_type": "code",
        "colab": {}
      },
      "source": [
        "cons_lagged=consumption_df.copy()"
      ],
      "execution_count": 0,
      "outputs": []
    },
    {
      "cell_type": "code",
      "metadata": {
        "id": "kmvu2RoRVwIc",
        "colab_type": "code",
        "outputId": "0bf7fa66-db13-42ec-c047-66ab17516d99",
        "colab": {
          "base_uri": "https://localhost:8080/",
          "height": 419
        }
      },
      "source": [
        "cons_lagged[\"Consumption_2_lag\"]=cons_lagged[\"Consumption\"].shift(24*2)\n",
        "cons_lagged=cons_lagged.dropna()\n",
        "cons_lagged"
      ],
      "execution_count": 0,
      "outputs": [
        {
          "output_type": "execute_result",
          "data": {
            "text/html": [
              "<div>\n",
              "<style scoped>\n",
              "    .dataframe tbody tr th:only-of-type {\n",
              "        vertical-align: middle;\n",
              "    }\n",
              "\n",
              "    .dataframe tbody tr th {\n",
              "        vertical-align: top;\n",
              "    }\n",
              "\n",
              "    .dataframe thead th {\n",
              "        text-align: right;\n",
              "    }\n",
              "</style>\n",
              "<table border=\"1\" class=\"dataframe\">\n",
              "  <thead>\n",
              "    <tr style=\"text-align: right;\">\n",
              "      <th></th>\n",
              "      <th>Date</th>\n",
              "      <th>Hour</th>\n",
              "      <th>Consumption</th>\n",
              "      <th>Datetime</th>\n",
              "      <th>Consumption_2_lag</th>\n",
              "    </tr>\n",
              "  </thead>\n",
              "  <tbody>\n",
              "    <tr>\n",
              "      <th>48</th>\n",
              "      <td>02.01.2016</td>\n",
              "      <td>00:00</td>\n",
              "      <td>26224.60</td>\n",
              "      <td>2016-02-01 00:00:00</td>\n",
              "      <td>29590.88</td>\n",
              "    </tr>\n",
              "    <tr>\n",
              "      <th>49</th>\n",
              "      <td>02.01.2016</td>\n",
              "      <td>01:00</td>\n",
              "      <td>24708.58</td>\n",
              "      <td>2016-02-01 01:00:00</td>\n",
              "      <td>27785.43</td>\n",
              "    </tr>\n",
              "    <tr>\n",
              "      <th>50</th>\n",
              "      <td>02.01.2016</td>\n",
              "      <td>02:00</td>\n",
              "      <td>23771.58</td>\n",
              "      <td>2016-02-01 02:00:00</td>\n",
              "      <td>26516.53</td>\n",
              "    </tr>\n",
              "    <tr>\n",
              "      <th>51</th>\n",
              "      <td>02.01.2016</td>\n",
              "      <td>03:00</td>\n",
              "      <td>22921.29</td>\n",
              "      <td>2016-02-01 03:00:00</td>\n",
              "      <td>26091.62</td>\n",
              "    </tr>\n",
              "    <tr>\n",
              "      <th>52</th>\n",
              "      <td>02.01.2016</td>\n",
              "      <td>04:00</td>\n",
              "      <td>22870.89</td>\n",
              "      <td>2016-02-01 04:00:00</td>\n",
              "      <td>25871.54</td>\n",
              "    </tr>\n",
              "    <tr>\n",
              "      <th>...</th>\n",
              "      <td>...</td>\n",
              "      <td>...</td>\n",
              "      <td>...</td>\n",
              "      <td>...</td>\n",
              "      <td>...</td>\n",
              "    </tr>\n",
              "    <tr>\n",
              "      <th>36571</th>\n",
              "      <td>03.03.2020</td>\n",
              "      <td>19:00</td>\n",
              "      <td>37936.79</td>\n",
              "      <td>2020-03-03 19:00:00</td>\n",
              "      <td>35049.21</td>\n",
              "    </tr>\n",
              "    <tr>\n",
              "      <th>36572</th>\n",
              "      <td>03.03.2020</td>\n",
              "      <td>20:00</td>\n",
              "      <td>37553.37</td>\n",
              "      <td>2020-03-03 20:00:00</td>\n",
              "      <td>34901.84</td>\n",
              "    </tr>\n",
              "    <tr>\n",
              "      <th>36573</th>\n",
              "      <td>03.03.2020</td>\n",
              "      <td>21:00</td>\n",
              "      <td>36581.73</td>\n",
              "      <td>2020-03-03 21:00:00</td>\n",
              "      <td>34225.14</td>\n",
              "    </tr>\n",
              "    <tr>\n",
              "      <th>36574</th>\n",
              "      <td>03.03.2020</td>\n",
              "      <td>22:00</td>\n",
              "      <td>35434.36</td>\n",
              "      <td>2020-03-03 22:00:00</td>\n",
              "      <td>33257.06</td>\n",
              "    </tr>\n",
              "    <tr>\n",
              "      <th>36575</th>\n",
              "      <td>03.03.2020</td>\n",
              "      <td>23:00</td>\n",
              "      <td>33827.00</td>\n",
              "      <td>2020-03-03 23:00:00</td>\n",
              "      <td>31819.85</td>\n",
              "    </tr>\n",
              "  </tbody>\n",
              "</table>\n",
              "<p>36096 rows × 5 columns</p>\n",
              "</div>"
            ],
            "text/plain": [
              "             Date   Hour  Consumption            Datetime  Consumption_2_lag\n",
              "48     02.01.2016  00:00     26224.60 2016-02-01 00:00:00           29590.88\n",
              "49     02.01.2016  01:00     24708.58 2016-02-01 01:00:00           27785.43\n",
              "50     02.01.2016  02:00     23771.58 2016-02-01 02:00:00           26516.53\n",
              "51     02.01.2016  03:00     22921.29 2016-02-01 03:00:00           26091.62\n",
              "52     02.01.2016  04:00     22870.89 2016-02-01 04:00:00           25871.54\n",
              "...           ...    ...          ...                 ...                ...\n",
              "36571  03.03.2020  19:00     37936.79 2020-03-03 19:00:00           35049.21\n",
              "36572  03.03.2020  20:00     37553.37 2020-03-03 20:00:00           34901.84\n",
              "36573  03.03.2020  21:00     36581.73 2020-03-03 21:00:00           34225.14\n",
              "36574  03.03.2020  22:00     35434.36 2020-03-03 22:00:00           33257.06\n",
              "36575  03.03.2020  23:00     33827.00 2020-03-03 23:00:00           31819.85\n",
              "\n",
              "[36096 rows x 5 columns]"
            ]
          },
          "metadata": {
            "tags": []
          },
          "execution_count": 184
        }
      ]
    },
    {
      "cell_type": "code",
      "metadata": {
        "id": "l3jOyJBJX6Lr",
        "colab_type": "code",
        "outputId": "0690bc0d-59ac-4f47-c973-8449c8cb7c92",
        "colab": {
          "base_uri": "https://localhost:8080/",
          "height": 68
        }
      },
      "source": [
        "eval_df.append(eval_function(\"naive_2\",cons_lagged[\"Consumption\"],cons_lagged[\"Consumption_2_lag\"]))"
      ],
      "execution_count": 0,
      "outputs": [
        {
          "output_type": "stream",
          "text": [
            "RMSE:  3606.6493919355044\n",
            "RMSLE:  0.11286520561416101\n",
            "MAE:  2511.0528404809397\n"
          ],
          "name": "stdout"
        }
      ]
    },
    {
      "cell_type": "markdown",
      "metadata": {
        "id": "dfcQ32coWozC",
        "colab_type": "text"
      },
      "source": [
        "# Naive Approach 1 Week"
      ]
    },
    {
      "cell_type": "code",
      "metadata": {
        "id": "qw25AOmlYw33",
        "colab_type": "code",
        "colab": {}
      },
      "source": [
        "cons_lagged=consumption_df.copy()"
      ],
      "execution_count": 0,
      "outputs": []
    },
    {
      "cell_type": "code",
      "metadata": {
        "id": "agB1pus3WvM1",
        "colab_type": "code",
        "outputId": "5f47c27d-f13d-4143-f2bf-98c87b15f044",
        "colab": {
          "base_uri": "https://localhost:8080/",
          "height": 419
        }
      },
      "source": [
        "cons_lagged[\"Consumption_7_lag\"]=cons_lagged[\"Consumption\"].shift(24*7)\n",
        "cons_lagged=cons_lagged.dropna()\n",
        "cons_lagged"
      ],
      "execution_count": 0,
      "outputs": [
        {
          "output_type": "execute_result",
          "data": {
            "text/html": [
              "<div>\n",
              "<style scoped>\n",
              "    .dataframe tbody tr th:only-of-type {\n",
              "        vertical-align: middle;\n",
              "    }\n",
              "\n",
              "    .dataframe tbody tr th {\n",
              "        vertical-align: top;\n",
              "    }\n",
              "\n",
              "    .dataframe thead th {\n",
              "        text-align: right;\n",
              "    }\n",
              "</style>\n",
              "<table border=\"1\" class=\"dataframe\">\n",
              "  <thead>\n",
              "    <tr style=\"text-align: right;\">\n",
              "      <th></th>\n",
              "      <th>Date</th>\n",
              "      <th>Hour</th>\n",
              "      <th>Consumption</th>\n",
              "      <th>Datetime</th>\n",
              "      <th>Consumption_7_lag</th>\n",
              "    </tr>\n",
              "  </thead>\n",
              "  <tbody>\n",
              "    <tr>\n",
              "      <th>168</th>\n",
              "      <td>07.01.2016</td>\n",
              "      <td>00:00</td>\n",
              "      <td>28763.95</td>\n",
              "      <td>2016-07-01 00:00:00</td>\n",
              "      <td>29590.88</td>\n",
              "    </tr>\n",
              "    <tr>\n",
              "      <th>169</th>\n",
              "      <td>07.01.2016</td>\n",
              "      <td>01:00</td>\n",
              "      <td>27284.84</td>\n",
              "      <td>2016-07-01 01:00:00</td>\n",
              "      <td>27785.43</td>\n",
              "    </tr>\n",
              "    <tr>\n",
              "      <th>170</th>\n",
              "      <td>07.01.2016</td>\n",
              "      <td>02:00</td>\n",
              "      <td>26321.95</td>\n",
              "      <td>2016-07-01 02:00:00</td>\n",
              "      <td>26516.53</td>\n",
              "    </tr>\n",
              "    <tr>\n",
              "      <th>171</th>\n",
              "      <td>07.01.2016</td>\n",
              "      <td>03:00</td>\n",
              "      <td>25748.49</td>\n",
              "      <td>2016-07-01 03:00:00</td>\n",
              "      <td>26091.62</td>\n",
              "    </tr>\n",
              "    <tr>\n",
              "      <th>172</th>\n",
              "      <td>07.01.2016</td>\n",
              "      <td>04:00</td>\n",
              "      <td>25636.58</td>\n",
              "      <td>2016-07-01 04:00:00</td>\n",
              "      <td>25871.54</td>\n",
              "    </tr>\n",
              "    <tr>\n",
              "      <th>...</th>\n",
              "      <td>...</td>\n",
              "      <td>...</td>\n",
              "      <td>...</td>\n",
              "      <td>...</td>\n",
              "      <td>...</td>\n",
              "    </tr>\n",
              "    <tr>\n",
              "      <th>36571</th>\n",
              "      <td>03.03.2020</td>\n",
              "      <td>19:00</td>\n",
              "      <td>37936.79</td>\n",
              "      <td>2020-03-03 19:00:00</td>\n",
              "      <td>39283.70</td>\n",
              "    </tr>\n",
              "    <tr>\n",
              "      <th>36572</th>\n",
              "      <td>03.03.2020</td>\n",
              "      <td>20:00</td>\n",
              "      <td>37553.37</td>\n",
              "      <td>2020-03-03 20:00:00</td>\n",
              "      <td>38791.40</td>\n",
              "    </tr>\n",
              "    <tr>\n",
              "      <th>36573</th>\n",
              "      <td>03.03.2020</td>\n",
              "      <td>21:00</td>\n",
              "      <td>36581.73</td>\n",
              "      <td>2020-03-03 21:00:00</td>\n",
              "      <td>37588.86</td>\n",
              "    </tr>\n",
              "    <tr>\n",
              "      <th>36574</th>\n",
              "      <td>03.03.2020</td>\n",
              "      <td>22:00</td>\n",
              "      <td>35434.36</td>\n",
              "      <td>2020-03-03 22:00:00</td>\n",
              "      <td>36290.64</td>\n",
              "    </tr>\n",
              "    <tr>\n",
              "      <th>36575</th>\n",
              "      <td>03.03.2020</td>\n",
              "      <td>23:00</td>\n",
              "      <td>33827.00</td>\n",
              "      <td>2020-03-03 23:00:00</td>\n",
              "      <td>34580.08</td>\n",
              "    </tr>\n",
              "  </tbody>\n",
              "</table>\n",
              "<p>35976 rows × 5 columns</p>\n",
              "</div>"
            ],
            "text/plain": [
              "             Date   Hour  Consumption            Datetime  Consumption_7_lag\n",
              "168    07.01.2016  00:00     28763.95 2016-07-01 00:00:00           29590.88\n",
              "169    07.01.2016  01:00     27284.84 2016-07-01 01:00:00           27785.43\n",
              "170    07.01.2016  02:00     26321.95 2016-07-01 02:00:00           26516.53\n",
              "171    07.01.2016  03:00     25748.49 2016-07-01 03:00:00           26091.62\n",
              "172    07.01.2016  04:00     25636.58 2016-07-01 04:00:00           25871.54\n",
              "...           ...    ...          ...                 ...                ...\n",
              "36571  03.03.2020  19:00     37936.79 2020-03-03 19:00:00           39283.70\n",
              "36572  03.03.2020  20:00     37553.37 2020-03-03 20:00:00           38791.40\n",
              "36573  03.03.2020  21:00     36581.73 2020-03-03 21:00:00           37588.86\n",
              "36574  03.03.2020  22:00     35434.36 2020-03-03 22:00:00           36290.64\n",
              "36575  03.03.2020  23:00     33827.00 2020-03-03 23:00:00           34580.08\n",
              "\n",
              "[35976 rows x 5 columns]"
            ]
          },
          "metadata": {
            "tags": []
          },
          "execution_count": 187
        }
      ]
    },
    {
      "cell_type": "code",
      "metadata": {
        "id": "A4JIIdLPYGFj",
        "colab_type": "code",
        "outputId": "34c25a62-5f66-4e7a-ee40-15e3d9454f4b",
        "colab": {
          "base_uri": "https://localhost:8080/",
          "height": 68
        }
      },
      "source": [
        "eval_df.append(eval_function(\"naive_7\",cons_lagged[\"Consumption\"],cons_lagged[\"Consumption_7_lag\"]))"
      ],
      "execution_count": 0,
      "outputs": [
        {
          "output_type": "stream",
          "text": [
            "RMSE:  2771.8255600552093\n",
            "RMSLE:  0.0896548159911968\n",
            "MAE:  1567.3023635201246\n"
          ],
          "name": "stdout"
        }
      ]
    },
    {
      "cell_type": "markdown",
      "metadata": {
        "id": "-aRs0sS0Y5BQ",
        "colab_type": "text"
      },
      "source": [
        "# Linear Regression"
      ]
    },
    {
      "cell_type": "markdown",
      "metadata": {
        "id": "SMi63dGHaCuu",
        "colab_type": "text"
      },
      "source": [
        "## Regression with 2 days lag"
      ]
    },
    {
      "cell_type": "code",
      "metadata": {
        "id": "Y1BRjRvNaoxH",
        "colab_type": "code",
        "colab": {}
      },
      "source": [
        "cons_lagged=consumption_df.copy()"
      ],
      "execution_count": 0,
      "outputs": []
    },
    {
      "cell_type": "code",
      "metadata": {
        "id": "X0B3FOvvhkAx",
        "colab_type": "code",
        "outputId": "4781f23c-f4f2-4e50-8360-7f031751bd80",
        "colab": {
          "base_uri": "https://localhost:8080/",
          "height": 419
        }
      },
      "source": [
        "cons_lagged[\"Consumption_2_lag\"]=cons_lagged[\"Consumption\"].shift(24*2)\n",
        "cons_lagged=cons_lagged.dropna()\n",
        "cons_lagged"
      ],
      "execution_count": 0,
      "outputs": [
        {
          "output_type": "execute_result",
          "data": {
            "text/html": [
              "<div>\n",
              "<style scoped>\n",
              "    .dataframe tbody tr th:only-of-type {\n",
              "        vertical-align: middle;\n",
              "    }\n",
              "\n",
              "    .dataframe tbody tr th {\n",
              "        vertical-align: top;\n",
              "    }\n",
              "\n",
              "    .dataframe thead th {\n",
              "        text-align: right;\n",
              "    }\n",
              "</style>\n",
              "<table border=\"1\" class=\"dataframe\">\n",
              "  <thead>\n",
              "    <tr style=\"text-align: right;\">\n",
              "      <th></th>\n",
              "      <th>Date</th>\n",
              "      <th>Hour</th>\n",
              "      <th>Consumption</th>\n",
              "      <th>Datetime</th>\n",
              "      <th>Consumption_2_lag</th>\n",
              "    </tr>\n",
              "  </thead>\n",
              "  <tbody>\n",
              "    <tr>\n",
              "      <th>48</th>\n",
              "      <td>02.01.2016</td>\n",
              "      <td>00:00</td>\n",
              "      <td>26224.60</td>\n",
              "      <td>2016-02-01 00:00:00</td>\n",
              "      <td>29590.88</td>\n",
              "    </tr>\n",
              "    <tr>\n",
              "      <th>49</th>\n",
              "      <td>02.01.2016</td>\n",
              "      <td>01:00</td>\n",
              "      <td>24708.58</td>\n",
              "      <td>2016-02-01 01:00:00</td>\n",
              "      <td>27785.43</td>\n",
              "    </tr>\n",
              "    <tr>\n",
              "      <th>50</th>\n",
              "      <td>02.01.2016</td>\n",
              "      <td>02:00</td>\n",
              "      <td>23771.58</td>\n",
              "      <td>2016-02-01 02:00:00</td>\n",
              "      <td>26516.53</td>\n",
              "    </tr>\n",
              "    <tr>\n",
              "      <th>51</th>\n",
              "      <td>02.01.2016</td>\n",
              "      <td>03:00</td>\n",
              "      <td>22921.29</td>\n",
              "      <td>2016-02-01 03:00:00</td>\n",
              "      <td>26091.62</td>\n",
              "    </tr>\n",
              "    <tr>\n",
              "      <th>52</th>\n",
              "      <td>02.01.2016</td>\n",
              "      <td>04:00</td>\n",
              "      <td>22870.89</td>\n",
              "      <td>2016-02-01 04:00:00</td>\n",
              "      <td>25871.54</td>\n",
              "    </tr>\n",
              "    <tr>\n",
              "      <th>...</th>\n",
              "      <td>...</td>\n",
              "      <td>...</td>\n",
              "      <td>...</td>\n",
              "      <td>...</td>\n",
              "      <td>...</td>\n",
              "    </tr>\n",
              "    <tr>\n",
              "      <th>36571</th>\n",
              "      <td>03.03.2020</td>\n",
              "      <td>19:00</td>\n",
              "      <td>37936.79</td>\n",
              "      <td>2020-03-03 19:00:00</td>\n",
              "      <td>35049.21</td>\n",
              "    </tr>\n",
              "    <tr>\n",
              "      <th>36572</th>\n",
              "      <td>03.03.2020</td>\n",
              "      <td>20:00</td>\n",
              "      <td>37553.37</td>\n",
              "      <td>2020-03-03 20:00:00</td>\n",
              "      <td>34901.84</td>\n",
              "    </tr>\n",
              "    <tr>\n",
              "      <th>36573</th>\n",
              "      <td>03.03.2020</td>\n",
              "      <td>21:00</td>\n",
              "      <td>36581.73</td>\n",
              "      <td>2020-03-03 21:00:00</td>\n",
              "      <td>34225.14</td>\n",
              "    </tr>\n",
              "    <tr>\n",
              "      <th>36574</th>\n",
              "      <td>03.03.2020</td>\n",
              "      <td>22:00</td>\n",
              "      <td>35434.36</td>\n",
              "      <td>2020-03-03 22:00:00</td>\n",
              "      <td>33257.06</td>\n",
              "    </tr>\n",
              "    <tr>\n",
              "      <th>36575</th>\n",
              "      <td>03.03.2020</td>\n",
              "      <td>23:00</td>\n",
              "      <td>33827.00</td>\n",
              "      <td>2020-03-03 23:00:00</td>\n",
              "      <td>31819.85</td>\n",
              "    </tr>\n",
              "  </tbody>\n",
              "</table>\n",
              "<p>36096 rows × 5 columns</p>\n",
              "</div>"
            ],
            "text/plain": [
              "             Date   Hour  Consumption            Datetime  Consumption_2_lag\n",
              "48     02.01.2016  00:00     26224.60 2016-02-01 00:00:00           29590.88\n",
              "49     02.01.2016  01:00     24708.58 2016-02-01 01:00:00           27785.43\n",
              "50     02.01.2016  02:00     23771.58 2016-02-01 02:00:00           26516.53\n",
              "51     02.01.2016  03:00     22921.29 2016-02-01 03:00:00           26091.62\n",
              "52     02.01.2016  04:00     22870.89 2016-02-01 04:00:00           25871.54\n",
              "...           ...    ...          ...                 ...                ...\n",
              "36571  03.03.2020  19:00     37936.79 2020-03-03 19:00:00           35049.21\n",
              "36572  03.03.2020  20:00     37553.37 2020-03-03 20:00:00           34901.84\n",
              "36573  03.03.2020  21:00     36581.73 2020-03-03 21:00:00           34225.14\n",
              "36574  03.03.2020  22:00     35434.36 2020-03-03 22:00:00           33257.06\n",
              "36575  03.03.2020  23:00     33827.00 2020-03-03 23:00:00           31819.85\n",
              "\n",
              "[36096 rows x 5 columns]"
            ]
          },
          "metadata": {
            "tags": []
          },
          "execution_count": 190
        }
      ]
    },
    {
      "cell_type": "code",
      "metadata": {
        "id": "2G4iGbuadhdi",
        "colab_type": "code",
        "colab": {}
      },
      "source": [
        "train_df=cons_lagged.loc[cons_lagged[\"Datetime\"]<=pd.to_datetime(\"2019-03-03 23:00:00\")]\n",
        "valid_df=cons_lagged.loc[cons_lagged[\"Datetime\"]>pd.to_datetime(\"2019-03-03 23:00:00\")]"
      ],
      "execution_count": 0,
      "outputs": []
    },
    {
      "cell_type": "code",
      "metadata": {
        "id": "W8LJQkYOZY9G",
        "colab_type": "code",
        "colab": {}
      },
      "source": [
        "from sklearn.linear_model import LinearRegression\n",
        "\n",
        "cons_lagged[\"Consumption_2_lag\"]=cons_lagged[\"Consumption\"].shift(24*2)\n",
        "cons_lagged=cons_lagged.dropna()\n",
        "\n",
        "model=LinearRegression()\n",
        "model.fit(train_df[\"Consumption_2_lag\"].values.reshape(-1, 1),train_df[\"Consumption\"].values.reshape(-1, 1))\n",
        "preds=model.predict(valid_df[\"Consumption_2_lag\"].values.reshape(-1, 1))"
      ],
      "execution_count": 0,
      "outputs": []
    },
    {
      "cell_type": "code",
      "metadata": {
        "id": "c65vYdi3iTHI",
        "colab_type": "code",
        "outputId": "d0094d41-34c5-4b07-8d6b-a59645794f81",
        "colab": {
          "base_uri": "https://localhost:8080/",
          "height": 68
        }
      },
      "source": [
        "eval_df.append(eval_function(\"LR_2\",valid_df[\"Consumption\"],preds))"
      ],
      "execution_count": 0,
      "outputs": [
        {
          "output_type": "stream",
          "text": [
            "RMSE:  3424.5456173909047\n",
            "RMSLE:  0.10564275989304554\n",
            "MAE:  2524.446218082396\n"
          ],
          "name": "stdout"
        }
      ]
    },
    {
      "cell_type": "markdown",
      "metadata": {
        "id": "t6gIcvkgaGEW",
        "colab_type": "text"
      },
      "source": [
        "## Regression with 7 days lag"
      ]
    },
    {
      "cell_type": "code",
      "metadata": {
        "colab_type": "code",
        "id": "E_SHfdVBmBbH",
        "colab": {}
      },
      "source": [
        "cons_lagged=consumption_df.copy()"
      ],
      "execution_count": 0,
      "outputs": []
    },
    {
      "cell_type": "code",
      "metadata": {
        "colab_type": "code",
        "outputId": "deab27b8-d2f4-4006-dc3b-fe2e6d8cc67a",
        "id": "LimaCGUxmBbM",
        "colab": {
          "base_uri": "https://localhost:8080/",
          "height": 419
        }
      },
      "source": [
        "cons_lagged[\"Consumption_7_lag\"]=cons_lagged[\"Consumption\"].shift(24*7)\n",
        "cons_lagged=cons_lagged.dropna()\n",
        "cons_lagged"
      ],
      "execution_count": 0,
      "outputs": [
        {
          "output_type": "execute_result",
          "data": {
            "text/html": [
              "<div>\n",
              "<style scoped>\n",
              "    .dataframe tbody tr th:only-of-type {\n",
              "        vertical-align: middle;\n",
              "    }\n",
              "\n",
              "    .dataframe tbody tr th {\n",
              "        vertical-align: top;\n",
              "    }\n",
              "\n",
              "    .dataframe thead th {\n",
              "        text-align: right;\n",
              "    }\n",
              "</style>\n",
              "<table border=\"1\" class=\"dataframe\">\n",
              "  <thead>\n",
              "    <tr style=\"text-align: right;\">\n",
              "      <th></th>\n",
              "      <th>Date</th>\n",
              "      <th>Hour</th>\n",
              "      <th>Consumption</th>\n",
              "      <th>Datetime</th>\n",
              "      <th>Consumption_7_lag</th>\n",
              "    </tr>\n",
              "  </thead>\n",
              "  <tbody>\n",
              "    <tr>\n",
              "      <th>168</th>\n",
              "      <td>07.01.2016</td>\n",
              "      <td>00:00</td>\n",
              "      <td>28763.95</td>\n",
              "      <td>2016-07-01 00:00:00</td>\n",
              "      <td>29590.88</td>\n",
              "    </tr>\n",
              "    <tr>\n",
              "      <th>169</th>\n",
              "      <td>07.01.2016</td>\n",
              "      <td>01:00</td>\n",
              "      <td>27284.84</td>\n",
              "      <td>2016-07-01 01:00:00</td>\n",
              "      <td>27785.43</td>\n",
              "    </tr>\n",
              "    <tr>\n",
              "      <th>170</th>\n",
              "      <td>07.01.2016</td>\n",
              "      <td>02:00</td>\n",
              "      <td>26321.95</td>\n",
              "      <td>2016-07-01 02:00:00</td>\n",
              "      <td>26516.53</td>\n",
              "    </tr>\n",
              "    <tr>\n",
              "      <th>171</th>\n",
              "      <td>07.01.2016</td>\n",
              "      <td>03:00</td>\n",
              "      <td>25748.49</td>\n",
              "      <td>2016-07-01 03:00:00</td>\n",
              "      <td>26091.62</td>\n",
              "    </tr>\n",
              "    <tr>\n",
              "      <th>172</th>\n",
              "      <td>07.01.2016</td>\n",
              "      <td>04:00</td>\n",
              "      <td>25636.58</td>\n",
              "      <td>2016-07-01 04:00:00</td>\n",
              "      <td>25871.54</td>\n",
              "    </tr>\n",
              "    <tr>\n",
              "      <th>...</th>\n",
              "      <td>...</td>\n",
              "      <td>...</td>\n",
              "      <td>...</td>\n",
              "      <td>...</td>\n",
              "      <td>...</td>\n",
              "    </tr>\n",
              "    <tr>\n",
              "      <th>36571</th>\n",
              "      <td>03.03.2020</td>\n",
              "      <td>19:00</td>\n",
              "      <td>37936.79</td>\n",
              "      <td>2020-03-03 19:00:00</td>\n",
              "      <td>39283.70</td>\n",
              "    </tr>\n",
              "    <tr>\n",
              "      <th>36572</th>\n",
              "      <td>03.03.2020</td>\n",
              "      <td>20:00</td>\n",
              "      <td>37553.37</td>\n",
              "      <td>2020-03-03 20:00:00</td>\n",
              "      <td>38791.40</td>\n",
              "    </tr>\n",
              "    <tr>\n",
              "      <th>36573</th>\n",
              "      <td>03.03.2020</td>\n",
              "      <td>21:00</td>\n",
              "      <td>36581.73</td>\n",
              "      <td>2020-03-03 21:00:00</td>\n",
              "      <td>37588.86</td>\n",
              "    </tr>\n",
              "    <tr>\n",
              "      <th>36574</th>\n",
              "      <td>03.03.2020</td>\n",
              "      <td>22:00</td>\n",
              "      <td>35434.36</td>\n",
              "      <td>2020-03-03 22:00:00</td>\n",
              "      <td>36290.64</td>\n",
              "    </tr>\n",
              "    <tr>\n",
              "      <th>36575</th>\n",
              "      <td>03.03.2020</td>\n",
              "      <td>23:00</td>\n",
              "      <td>33827.00</td>\n",
              "      <td>2020-03-03 23:00:00</td>\n",
              "      <td>34580.08</td>\n",
              "    </tr>\n",
              "  </tbody>\n",
              "</table>\n",
              "<p>35976 rows × 5 columns</p>\n",
              "</div>"
            ],
            "text/plain": [
              "             Date   Hour  Consumption            Datetime  Consumption_7_lag\n",
              "168    07.01.2016  00:00     28763.95 2016-07-01 00:00:00           29590.88\n",
              "169    07.01.2016  01:00     27284.84 2016-07-01 01:00:00           27785.43\n",
              "170    07.01.2016  02:00     26321.95 2016-07-01 02:00:00           26516.53\n",
              "171    07.01.2016  03:00     25748.49 2016-07-01 03:00:00           26091.62\n",
              "172    07.01.2016  04:00     25636.58 2016-07-01 04:00:00           25871.54\n",
              "...           ...    ...          ...                 ...                ...\n",
              "36571  03.03.2020  19:00     37936.79 2020-03-03 19:00:00           39283.70\n",
              "36572  03.03.2020  20:00     37553.37 2020-03-03 20:00:00           38791.40\n",
              "36573  03.03.2020  21:00     36581.73 2020-03-03 21:00:00           37588.86\n",
              "36574  03.03.2020  22:00     35434.36 2020-03-03 22:00:00           36290.64\n",
              "36575  03.03.2020  23:00     33827.00 2020-03-03 23:00:00           34580.08\n",
              "\n",
              "[35976 rows x 5 columns]"
            ]
          },
          "metadata": {
            "tags": []
          },
          "execution_count": 195
        }
      ]
    },
    {
      "cell_type": "code",
      "metadata": {
        "colab_type": "code",
        "id": "_zwMPs5QmBbP",
        "colab": {}
      },
      "source": [
        "train_df=cons_lagged.loc[cons_lagged[\"Datetime\"]<=pd.to_datetime(\"2019-03-03 23:00:00\")]\n",
        "valid_df=cons_lagged.loc[cons_lagged[\"Datetime\"]>pd.to_datetime(\"2019-03-03 23:00:00\")]"
      ],
      "execution_count": 0,
      "outputs": []
    },
    {
      "cell_type": "code",
      "metadata": {
        "colab_type": "code",
        "id": "HOX7tKLOmBbR",
        "colab": {}
      },
      "source": [
        "from sklearn.linear_model import LinearRegression\n",
        "\n",
        "cons_lagged[\"Consumption_7_lag\"]=cons_lagged[\"Consumption\"].shift(24*2)\n",
        "cons_lagged=cons_lagged.dropna()\n",
        "\n",
        "model=LinearRegression()\n",
        "model.fit(train_df[\"Consumption_7_lag\"].values.reshape(-1, 1),train_df[\"Consumption\"].values.reshape(-1, 1))\n",
        "preds=model.predict(valid_df[\"Consumption_7_lag\"].values.reshape(-1, 1))"
      ],
      "execution_count": 0,
      "outputs": []
    },
    {
      "cell_type": "code",
      "metadata": {
        "colab_type": "code",
        "outputId": "518eea51-031a-4632-9508-6a1dbb9b9967",
        "id": "Zfe5Z-8YmBbT",
        "colab": {
          "base_uri": "https://localhost:8080/",
          "height": 68
        }
      },
      "source": [
        "eval_df.append(eval_function(\"LR_7\",valid_df[\"Consumption\"],preds))"
      ],
      "execution_count": 0,
      "outputs": [
        {
          "output_type": "stream",
          "text": [
            "RMSE:  2880.6934692731347\n",
            "RMSLE:  0.09102130950449729\n",
            "MAE:  1834.349205329185\n"
          ],
          "name": "stdout"
        }
      ]
    },
    {
      "cell_type": "markdown",
      "metadata": {
        "id": "NQeAz9aVnCkq",
        "colab_type": "text"
      },
      "source": [
        "## Regression with both 2 and 7 days"
      ]
    },
    {
      "cell_type": "code",
      "metadata": {
        "colab_type": "code",
        "id": "G8SqxYq8okr9",
        "colab": {}
      },
      "source": [
        "cons_lagged=consumption_df.copy()"
      ],
      "execution_count": 0,
      "outputs": []
    },
    {
      "cell_type": "code",
      "metadata": {
        "colab_type": "code",
        "outputId": "5d6a619b-8f67-4c32-d202-d1dd3489517a",
        "id": "ifBjypJDoksF",
        "colab": {
          "base_uri": "https://localhost:8080/",
          "height": 419
        }
      },
      "source": [
        "cons_lagged[\"Consumption_2_lag\"]=cons_lagged[\"Consumption\"].shift(24*2)\n",
        "cons_lagged[\"Consumption_7_lag\"]=cons_lagged[\"Consumption\"].shift(24*7)\n",
        "cons_lagged=cons_lagged.dropna()\n",
        "cons_lagged"
      ],
      "execution_count": 0,
      "outputs": [
        {
          "output_type": "execute_result",
          "data": {
            "text/html": [
              "<div>\n",
              "<style scoped>\n",
              "    .dataframe tbody tr th:only-of-type {\n",
              "        vertical-align: middle;\n",
              "    }\n",
              "\n",
              "    .dataframe tbody tr th {\n",
              "        vertical-align: top;\n",
              "    }\n",
              "\n",
              "    .dataframe thead th {\n",
              "        text-align: right;\n",
              "    }\n",
              "</style>\n",
              "<table border=\"1\" class=\"dataframe\">\n",
              "  <thead>\n",
              "    <tr style=\"text-align: right;\">\n",
              "      <th></th>\n",
              "      <th>Date</th>\n",
              "      <th>Hour</th>\n",
              "      <th>Consumption</th>\n",
              "      <th>Datetime</th>\n",
              "      <th>Consumption_2_lag</th>\n",
              "      <th>Consumption_7_lag</th>\n",
              "    </tr>\n",
              "  </thead>\n",
              "  <tbody>\n",
              "    <tr>\n",
              "      <th>168</th>\n",
              "      <td>07.01.2016</td>\n",
              "      <td>00:00</td>\n",
              "      <td>28763.95</td>\n",
              "      <td>2016-07-01 00:00:00</td>\n",
              "      <td>29244.38</td>\n",
              "      <td>29590.88</td>\n",
              "    </tr>\n",
              "    <tr>\n",
              "      <th>169</th>\n",
              "      <td>07.01.2016</td>\n",
              "      <td>01:00</td>\n",
              "      <td>27284.84</td>\n",
              "      <td>2016-07-01 01:00:00</td>\n",
              "      <td>27637.23</td>\n",
              "      <td>27785.43</td>\n",
              "    </tr>\n",
              "    <tr>\n",
              "      <th>170</th>\n",
              "      <td>07.01.2016</td>\n",
              "      <td>02:00</td>\n",
              "      <td>26321.95</td>\n",
              "      <td>2016-07-01 02:00:00</td>\n",
              "      <td>26335.78</td>\n",
              "      <td>26516.53</td>\n",
              "    </tr>\n",
              "    <tr>\n",
              "      <th>171</th>\n",
              "      <td>07.01.2016</td>\n",
              "      <td>03:00</td>\n",
              "      <td>25748.49</td>\n",
              "      <td>2016-07-01 03:00:00</td>\n",
              "      <td>25870.23</td>\n",
              "      <td>26091.62</td>\n",
              "    </tr>\n",
              "    <tr>\n",
              "      <th>172</th>\n",
              "      <td>07.01.2016</td>\n",
              "      <td>04:00</td>\n",
              "      <td>25636.58</td>\n",
              "      <td>2016-07-01 04:00:00</td>\n",
              "      <td>25975.07</td>\n",
              "      <td>25871.54</td>\n",
              "    </tr>\n",
              "    <tr>\n",
              "      <th>...</th>\n",
              "      <td>...</td>\n",
              "      <td>...</td>\n",
              "      <td>...</td>\n",
              "      <td>...</td>\n",
              "      <td>...</td>\n",
              "      <td>...</td>\n",
              "    </tr>\n",
              "    <tr>\n",
              "      <th>36571</th>\n",
              "      <td>03.03.2020</td>\n",
              "      <td>19:00</td>\n",
              "      <td>37936.79</td>\n",
              "      <td>2020-03-03 19:00:00</td>\n",
              "      <td>35049.21</td>\n",
              "      <td>39283.70</td>\n",
              "    </tr>\n",
              "    <tr>\n",
              "      <th>36572</th>\n",
              "      <td>03.03.2020</td>\n",
              "      <td>20:00</td>\n",
              "      <td>37553.37</td>\n",
              "      <td>2020-03-03 20:00:00</td>\n",
              "      <td>34901.84</td>\n",
              "      <td>38791.40</td>\n",
              "    </tr>\n",
              "    <tr>\n",
              "      <th>36573</th>\n",
              "      <td>03.03.2020</td>\n",
              "      <td>21:00</td>\n",
              "      <td>36581.73</td>\n",
              "      <td>2020-03-03 21:00:00</td>\n",
              "      <td>34225.14</td>\n",
              "      <td>37588.86</td>\n",
              "    </tr>\n",
              "    <tr>\n",
              "      <th>36574</th>\n",
              "      <td>03.03.2020</td>\n",
              "      <td>22:00</td>\n",
              "      <td>35434.36</td>\n",
              "      <td>2020-03-03 22:00:00</td>\n",
              "      <td>33257.06</td>\n",
              "      <td>36290.64</td>\n",
              "    </tr>\n",
              "    <tr>\n",
              "      <th>36575</th>\n",
              "      <td>03.03.2020</td>\n",
              "      <td>23:00</td>\n",
              "      <td>33827.00</td>\n",
              "      <td>2020-03-03 23:00:00</td>\n",
              "      <td>31819.85</td>\n",
              "      <td>34580.08</td>\n",
              "    </tr>\n",
              "  </tbody>\n",
              "</table>\n",
              "<p>35976 rows × 6 columns</p>\n",
              "</div>"
            ],
            "text/plain": [
              "             Date   Hour  ...  Consumption_2_lag Consumption_7_lag\n",
              "168    07.01.2016  00:00  ...           29244.38          29590.88\n",
              "169    07.01.2016  01:00  ...           27637.23          27785.43\n",
              "170    07.01.2016  02:00  ...           26335.78          26516.53\n",
              "171    07.01.2016  03:00  ...           25870.23          26091.62\n",
              "172    07.01.2016  04:00  ...           25975.07          25871.54\n",
              "...           ...    ...  ...                ...               ...\n",
              "36571  03.03.2020  19:00  ...           35049.21          39283.70\n",
              "36572  03.03.2020  20:00  ...           34901.84          38791.40\n",
              "36573  03.03.2020  21:00  ...           34225.14          37588.86\n",
              "36574  03.03.2020  22:00  ...           33257.06          36290.64\n",
              "36575  03.03.2020  23:00  ...           31819.85          34580.08\n",
              "\n",
              "[35976 rows x 6 columns]"
            ]
          },
          "metadata": {
            "tags": []
          },
          "execution_count": 200
        }
      ]
    },
    {
      "cell_type": "code",
      "metadata": {
        "colab_type": "code",
        "id": "8HtedVzLoksJ",
        "colab": {}
      },
      "source": [
        "train_df=cons_lagged.loc[cons_lagged[\"Datetime\"]<=pd.to_datetime(\"2019-03-03 23:00:00\")]\n",
        "valid_df=cons_lagged.loc[cons_lagged[\"Datetime\"]>pd.to_datetime(\"2019-03-03 23:00:00\")]"
      ],
      "execution_count": 0,
      "outputs": []
    },
    {
      "cell_type": "code",
      "metadata": {
        "colab_type": "code",
        "id": "23A7rq3SoksL",
        "colab": {}
      },
      "source": [
        "from sklearn.linear_model import LinearRegression\n",
        "cons_lagged=cons_lagged.dropna()\n",
        "\n",
        "model=LinearRegression()\n",
        "model.fit(train_df[[\"Consumption_7_lag\",\"Consumption_2_lag\"]].values,train_df[\"Consumption\"].values.reshape(-1, 1))\n",
        "preds=model.predict(valid_df[[\"Consumption_7_lag\",\"Consumption_2_lag\"]].values)"
      ],
      "execution_count": 0,
      "outputs": []
    },
    {
      "cell_type": "code",
      "metadata": {
        "colab_type": "code",
        "outputId": "0a210aa8-5b18-477b-dce9-0dedbcc4548c",
        "id": "vyDt7btjoksO",
        "colab": {
          "base_uri": "https://localhost:8080/",
          "height": 68
        }
      },
      "source": [
        "eval_df.append(eval_function(\"LR_2_7\",valid_df[\"Consumption\"],preds))"
      ],
      "execution_count": 0,
      "outputs": [
        {
          "output_type": "stream",
          "text": [
            "RMSE:  2592.2263305746233\n",
            "RMSLE:  0.08182116225045082\n",
            "MAE:  1700.4782113762747\n"
          ],
          "name": "stdout"
        }
      ]
    },
    {
      "cell_type": "markdown",
      "metadata": {
        "id": "rNdIR6ZN0_w5",
        "colab_type": "text"
      },
      "source": [
        "## LR with dates"
      ]
    },
    {
      "cell_type": "code",
      "metadata": {
        "id": "_C2K9WnHzj6M",
        "colab_type": "code",
        "outputId": "31f8222c-8753-4d79-829a-66ebf4f3d85a",
        "colab": {
          "base_uri": "https://localhost:8080/",
          "height": 419
        }
      },
      "source": [
        "cons_lagged=consumption_df.copy()\n",
        "cons_lagged[\"Consumption_2_lag\"]=cons_lagged[\"Consumption\"].shift(24*2)\n",
        "cons_lagged[\"Consumption_7_lag\"]=cons_lagged[\"Consumption\"].shift(24*7)\n",
        "cons_lagged[\"Hour\"]=cons_lagged[\"Hour\"].apply(lambda x:x.split(\":\")[0]).astype(int)\n",
        "cons_lagged[\"Day\"]=cons_lagged[\"Date\"].apply(lambda x:x.split(\".\")[0]).astype(int)\n",
        "cons_lagged[\"Month\"]=cons_lagged[\"Date\"].apply(lambda x:x.split(\".\")[1]).astype(int)\n",
        "cons_lagged[\"weekday\"]=pd.to_datetime(cons_lagged[\"Date\"]).apply(lambda x: x.weekday()).astype(int)\n",
        "cons_lagged=cons_lagged.dropna()\n",
        "cons_lagged"
      ],
      "execution_count": 0,
      "outputs": [
        {
          "output_type": "execute_result",
          "data": {
            "text/html": [
              "<div>\n",
              "<style scoped>\n",
              "    .dataframe tbody tr th:only-of-type {\n",
              "        vertical-align: middle;\n",
              "    }\n",
              "\n",
              "    .dataframe tbody tr th {\n",
              "        vertical-align: top;\n",
              "    }\n",
              "\n",
              "    .dataframe thead th {\n",
              "        text-align: right;\n",
              "    }\n",
              "</style>\n",
              "<table border=\"1\" class=\"dataframe\">\n",
              "  <thead>\n",
              "    <tr style=\"text-align: right;\">\n",
              "      <th></th>\n",
              "      <th>Date</th>\n",
              "      <th>Hour</th>\n",
              "      <th>Consumption</th>\n",
              "      <th>Datetime</th>\n",
              "      <th>Consumption_2_lag</th>\n",
              "      <th>Consumption_7_lag</th>\n",
              "      <th>Day</th>\n",
              "      <th>Month</th>\n",
              "      <th>weekday</th>\n",
              "    </tr>\n",
              "  </thead>\n",
              "  <tbody>\n",
              "    <tr>\n",
              "      <th>168</th>\n",
              "      <td>07.01.2016</td>\n",
              "      <td>0</td>\n",
              "      <td>28763.95</td>\n",
              "      <td>2016-07-01 00:00:00</td>\n",
              "      <td>29244.38</td>\n",
              "      <td>29590.88</td>\n",
              "      <td>7</td>\n",
              "      <td>1</td>\n",
              "      <td>4</td>\n",
              "    </tr>\n",
              "    <tr>\n",
              "      <th>169</th>\n",
              "      <td>07.01.2016</td>\n",
              "      <td>1</td>\n",
              "      <td>27284.84</td>\n",
              "      <td>2016-07-01 01:00:00</td>\n",
              "      <td>27637.23</td>\n",
              "      <td>27785.43</td>\n",
              "      <td>7</td>\n",
              "      <td>1</td>\n",
              "      <td>4</td>\n",
              "    </tr>\n",
              "    <tr>\n",
              "      <th>170</th>\n",
              "      <td>07.01.2016</td>\n",
              "      <td>2</td>\n",
              "      <td>26321.95</td>\n",
              "      <td>2016-07-01 02:00:00</td>\n",
              "      <td>26335.78</td>\n",
              "      <td>26516.53</td>\n",
              "      <td>7</td>\n",
              "      <td>1</td>\n",
              "      <td>4</td>\n",
              "    </tr>\n",
              "    <tr>\n",
              "      <th>171</th>\n",
              "      <td>07.01.2016</td>\n",
              "      <td>3</td>\n",
              "      <td>25748.49</td>\n",
              "      <td>2016-07-01 03:00:00</td>\n",
              "      <td>25870.23</td>\n",
              "      <td>26091.62</td>\n",
              "      <td>7</td>\n",
              "      <td>1</td>\n",
              "      <td>4</td>\n",
              "    </tr>\n",
              "    <tr>\n",
              "      <th>172</th>\n",
              "      <td>07.01.2016</td>\n",
              "      <td>4</td>\n",
              "      <td>25636.58</td>\n",
              "      <td>2016-07-01 04:00:00</td>\n",
              "      <td>25975.07</td>\n",
              "      <td>25871.54</td>\n",
              "      <td>7</td>\n",
              "      <td>1</td>\n",
              "      <td>4</td>\n",
              "    </tr>\n",
              "    <tr>\n",
              "      <th>...</th>\n",
              "      <td>...</td>\n",
              "      <td>...</td>\n",
              "      <td>...</td>\n",
              "      <td>...</td>\n",
              "      <td>...</td>\n",
              "      <td>...</td>\n",
              "      <td>...</td>\n",
              "      <td>...</td>\n",
              "      <td>...</td>\n",
              "    </tr>\n",
              "    <tr>\n",
              "      <th>36571</th>\n",
              "      <td>03.03.2020</td>\n",
              "      <td>19</td>\n",
              "      <td>37936.79</td>\n",
              "      <td>2020-03-03 19:00:00</td>\n",
              "      <td>35049.21</td>\n",
              "      <td>39283.70</td>\n",
              "      <td>3</td>\n",
              "      <td>3</td>\n",
              "      <td>1</td>\n",
              "    </tr>\n",
              "    <tr>\n",
              "      <th>36572</th>\n",
              "      <td>03.03.2020</td>\n",
              "      <td>20</td>\n",
              "      <td>37553.37</td>\n",
              "      <td>2020-03-03 20:00:00</td>\n",
              "      <td>34901.84</td>\n",
              "      <td>38791.40</td>\n",
              "      <td>3</td>\n",
              "      <td>3</td>\n",
              "      <td>1</td>\n",
              "    </tr>\n",
              "    <tr>\n",
              "      <th>36573</th>\n",
              "      <td>03.03.2020</td>\n",
              "      <td>21</td>\n",
              "      <td>36581.73</td>\n",
              "      <td>2020-03-03 21:00:00</td>\n",
              "      <td>34225.14</td>\n",
              "      <td>37588.86</td>\n",
              "      <td>3</td>\n",
              "      <td>3</td>\n",
              "      <td>1</td>\n",
              "    </tr>\n",
              "    <tr>\n",
              "      <th>36574</th>\n",
              "      <td>03.03.2020</td>\n",
              "      <td>22</td>\n",
              "      <td>35434.36</td>\n",
              "      <td>2020-03-03 22:00:00</td>\n",
              "      <td>33257.06</td>\n",
              "      <td>36290.64</td>\n",
              "      <td>3</td>\n",
              "      <td>3</td>\n",
              "      <td>1</td>\n",
              "    </tr>\n",
              "    <tr>\n",
              "      <th>36575</th>\n",
              "      <td>03.03.2020</td>\n",
              "      <td>23</td>\n",
              "      <td>33827.00</td>\n",
              "      <td>2020-03-03 23:00:00</td>\n",
              "      <td>31819.85</td>\n",
              "      <td>34580.08</td>\n",
              "      <td>3</td>\n",
              "      <td>3</td>\n",
              "      <td>1</td>\n",
              "    </tr>\n",
              "  </tbody>\n",
              "</table>\n",
              "<p>35976 rows × 9 columns</p>\n",
              "</div>"
            ],
            "text/plain": [
              "             Date  Hour  Consumption  ... Day  Month  weekday\n",
              "168    07.01.2016     0     28763.95  ...   7      1        4\n",
              "169    07.01.2016     1     27284.84  ...   7      1        4\n",
              "170    07.01.2016     2     26321.95  ...   7      1        4\n",
              "171    07.01.2016     3     25748.49  ...   7      1        4\n",
              "172    07.01.2016     4     25636.58  ...   7      1        4\n",
              "...           ...   ...          ...  ...  ..    ...      ...\n",
              "36571  03.03.2020    19     37936.79  ...   3      3        1\n",
              "36572  03.03.2020    20     37553.37  ...   3      3        1\n",
              "36573  03.03.2020    21     36581.73  ...   3      3        1\n",
              "36574  03.03.2020    22     35434.36  ...   3      3        1\n",
              "36575  03.03.2020    23     33827.00  ...   3      3        1\n",
              "\n",
              "[35976 rows x 9 columns]"
            ]
          },
          "metadata": {
            "tags": []
          },
          "execution_count": 204
        }
      ]
    },
    {
      "cell_type": "code",
      "metadata": {
        "id": "7znJ1_-GQpWQ",
        "colab_type": "code",
        "colab": {}
      },
      "source": [
        "train_df=cons_lagged.loc[cons_lagged[\"Datetime\"]<=pd.to_datetime(\"2019-03-03 23:00:00\")]\n",
        "valid_df=cons_lagged.loc[cons_lagged[\"Datetime\"]>pd.to_datetime(\"2019-03-03 23:00:00\")]"
      ],
      "execution_count": 0,
      "outputs": []
    },
    {
      "cell_type": "code",
      "metadata": {
        "id": "sED7ak52QuSW",
        "colab_type": "code",
        "colab": {}
      },
      "source": [
        "from sklearn.linear_model import LinearRegression\n",
        "\n",
        "cons_lagged=cons_lagged.dropna()\n",
        "\n",
        "cols=train_df.columns.difference([\"Date\",\"Consumption\",\"Datetime\"]).values\n",
        "\n",
        "model=LinearRegression()\n",
        "model.fit(train_df[cols].values,train_df[\"Consumption\"].values.reshape(-1, 1))\n",
        "preds=model.predict(valid_df[cols].values)"
      ],
      "execution_count": 0,
      "outputs": []
    },
    {
      "cell_type": "code",
      "metadata": {
        "id": "cpaqYsX0SO45",
        "colab_type": "code",
        "outputId": "636e4990-915d-4b42-94c6-4b3c32648537",
        "colab": {
          "base_uri": "https://localhost:8080/",
          "height": 68
        }
      },
      "source": [
        "eval_df.append(eval_function(\"LR_2_7_w_dates\",valid_df[\"Consumption\"],preds))"
      ],
      "execution_count": 0,
      "outputs": [
        {
          "output_type": "stream",
          "text": [
            "RMSE:  2522.875757223404\n",
            "RMSLE:  0.07974689639845284\n",
            "MAE:  1665.06492012629\n"
          ],
          "name": "stdout"
        }
      ]
    },
    {
      "cell_type": "markdown",
      "metadata": {
        "colab_type": "text",
        "id": "XZkoNwzdxDMg"
      },
      "source": [
        "\n",
        "\n",
        "### LR Date categorical\n"
      ]
    },
    {
      "cell_type": "code",
      "metadata": {
        "colab_type": "code",
        "outputId": "1cb50bf7-70fb-471c-983a-de5b920b6e6c",
        "id": "VDDY7ytcxDMh",
        "colab": {
          "base_uri": "https://localhost:8080/",
          "height": 419
        }
      },
      "source": [
        "cons_lagged=consumption_df.copy()\n",
        "cons_lagged[\"Consumption_2_lag\"]=cons_lagged[\"Consumption\"].shift(24*2)\n",
        "cons_lagged[\"Consumption_7_lag\"]=cons_lagged[\"Consumption\"].shift(24*7)\n",
        "cons_lagged[\"Hour\"]=cons_lagged[\"Hour\"].apply(lambda x:x.split(\":\")[0]).astype(int)\n",
        "cons_lagged[\"Day\"]=cons_lagged[\"Date\"].apply(lambda x:x.split(\".\")[0]).astype(int)\n",
        "cons_lagged[\"Month\"]=cons_lagged[\"Date\"].apply(lambda x:x.split(\".\")[1]).astype(int)\n",
        "cons_lagged[\"weekday\"]=pd.to_datetime(cons_lagged[\"Date\"]).apply(lambda x: x.weekday()).astype(int)\n",
        "cons_lagged=cons_lagged.dropna()\n",
        "cons_lagged"
      ],
      "execution_count": 0,
      "outputs": [
        {
          "output_type": "execute_result",
          "data": {
            "text/html": [
              "<div>\n",
              "<style scoped>\n",
              "    .dataframe tbody tr th:only-of-type {\n",
              "        vertical-align: middle;\n",
              "    }\n",
              "\n",
              "    .dataframe tbody tr th {\n",
              "        vertical-align: top;\n",
              "    }\n",
              "\n",
              "    .dataframe thead th {\n",
              "        text-align: right;\n",
              "    }\n",
              "</style>\n",
              "<table border=\"1\" class=\"dataframe\">\n",
              "  <thead>\n",
              "    <tr style=\"text-align: right;\">\n",
              "      <th></th>\n",
              "      <th>Date</th>\n",
              "      <th>Hour</th>\n",
              "      <th>Consumption</th>\n",
              "      <th>Datetime</th>\n",
              "      <th>Consumption_2_lag</th>\n",
              "      <th>Consumption_7_lag</th>\n",
              "      <th>Day</th>\n",
              "      <th>Month</th>\n",
              "      <th>weekday</th>\n",
              "    </tr>\n",
              "  </thead>\n",
              "  <tbody>\n",
              "    <tr>\n",
              "      <th>168</th>\n",
              "      <td>07.01.2016</td>\n",
              "      <td>0</td>\n",
              "      <td>28763.95</td>\n",
              "      <td>2016-07-01 00:00:00</td>\n",
              "      <td>29244.38</td>\n",
              "      <td>29590.88</td>\n",
              "      <td>7</td>\n",
              "      <td>1</td>\n",
              "      <td>4</td>\n",
              "    </tr>\n",
              "    <tr>\n",
              "      <th>169</th>\n",
              "      <td>07.01.2016</td>\n",
              "      <td>1</td>\n",
              "      <td>27284.84</td>\n",
              "      <td>2016-07-01 01:00:00</td>\n",
              "      <td>27637.23</td>\n",
              "      <td>27785.43</td>\n",
              "      <td>7</td>\n",
              "      <td>1</td>\n",
              "      <td>4</td>\n",
              "    </tr>\n",
              "    <tr>\n",
              "      <th>170</th>\n",
              "      <td>07.01.2016</td>\n",
              "      <td>2</td>\n",
              "      <td>26321.95</td>\n",
              "      <td>2016-07-01 02:00:00</td>\n",
              "      <td>26335.78</td>\n",
              "      <td>26516.53</td>\n",
              "      <td>7</td>\n",
              "      <td>1</td>\n",
              "      <td>4</td>\n",
              "    </tr>\n",
              "    <tr>\n",
              "      <th>171</th>\n",
              "      <td>07.01.2016</td>\n",
              "      <td>3</td>\n",
              "      <td>25748.49</td>\n",
              "      <td>2016-07-01 03:00:00</td>\n",
              "      <td>25870.23</td>\n",
              "      <td>26091.62</td>\n",
              "      <td>7</td>\n",
              "      <td>1</td>\n",
              "      <td>4</td>\n",
              "    </tr>\n",
              "    <tr>\n",
              "      <th>172</th>\n",
              "      <td>07.01.2016</td>\n",
              "      <td>4</td>\n",
              "      <td>25636.58</td>\n",
              "      <td>2016-07-01 04:00:00</td>\n",
              "      <td>25975.07</td>\n",
              "      <td>25871.54</td>\n",
              "      <td>7</td>\n",
              "      <td>1</td>\n",
              "      <td>4</td>\n",
              "    </tr>\n",
              "    <tr>\n",
              "      <th>...</th>\n",
              "      <td>...</td>\n",
              "      <td>...</td>\n",
              "      <td>...</td>\n",
              "      <td>...</td>\n",
              "      <td>...</td>\n",
              "      <td>...</td>\n",
              "      <td>...</td>\n",
              "      <td>...</td>\n",
              "      <td>...</td>\n",
              "    </tr>\n",
              "    <tr>\n",
              "      <th>36571</th>\n",
              "      <td>03.03.2020</td>\n",
              "      <td>19</td>\n",
              "      <td>37936.79</td>\n",
              "      <td>2020-03-03 19:00:00</td>\n",
              "      <td>35049.21</td>\n",
              "      <td>39283.70</td>\n",
              "      <td>3</td>\n",
              "      <td>3</td>\n",
              "      <td>1</td>\n",
              "    </tr>\n",
              "    <tr>\n",
              "      <th>36572</th>\n",
              "      <td>03.03.2020</td>\n",
              "      <td>20</td>\n",
              "      <td>37553.37</td>\n",
              "      <td>2020-03-03 20:00:00</td>\n",
              "      <td>34901.84</td>\n",
              "      <td>38791.40</td>\n",
              "      <td>3</td>\n",
              "      <td>3</td>\n",
              "      <td>1</td>\n",
              "    </tr>\n",
              "    <tr>\n",
              "      <th>36573</th>\n",
              "      <td>03.03.2020</td>\n",
              "      <td>21</td>\n",
              "      <td>36581.73</td>\n",
              "      <td>2020-03-03 21:00:00</td>\n",
              "      <td>34225.14</td>\n",
              "      <td>37588.86</td>\n",
              "      <td>3</td>\n",
              "      <td>3</td>\n",
              "      <td>1</td>\n",
              "    </tr>\n",
              "    <tr>\n",
              "      <th>36574</th>\n",
              "      <td>03.03.2020</td>\n",
              "      <td>22</td>\n",
              "      <td>35434.36</td>\n",
              "      <td>2020-03-03 22:00:00</td>\n",
              "      <td>33257.06</td>\n",
              "      <td>36290.64</td>\n",
              "      <td>3</td>\n",
              "      <td>3</td>\n",
              "      <td>1</td>\n",
              "    </tr>\n",
              "    <tr>\n",
              "      <th>36575</th>\n",
              "      <td>03.03.2020</td>\n",
              "      <td>23</td>\n",
              "      <td>33827.00</td>\n",
              "      <td>2020-03-03 23:00:00</td>\n",
              "      <td>31819.85</td>\n",
              "      <td>34580.08</td>\n",
              "      <td>3</td>\n",
              "      <td>3</td>\n",
              "      <td>1</td>\n",
              "    </tr>\n",
              "  </tbody>\n",
              "</table>\n",
              "<p>35976 rows × 9 columns</p>\n",
              "</div>"
            ],
            "text/plain": [
              "             Date  Hour  Consumption  ... Day  Month  weekday\n",
              "168    07.01.2016     0     28763.95  ...   7      1        4\n",
              "169    07.01.2016     1     27284.84  ...   7      1        4\n",
              "170    07.01.2016     2     26321.95  ...   7      1        4\n",
              "171    07.01.2016     3     25748.49  ...   7      1        4\n",
              "172    07.01.2016     4     25636.58  ...   7      1        4\n",
              "...           ...   ...          ...  ...  ..    ...      ...\n",
              "36571  03.03.2020    19     37936.79  ...   3      3        1\n",
              "36572  03.03.2020    20     37553.37  ...   3      3        1\n",
              "36573  03.03.2020    21     36581.73  ...   3      3        1\n",
              "36574  03.03.2020    22     35434.36  ...   3      3        1\n",
              "36575  03.03.2020    23     33827.00  ...   3      3        1\n",
              "\n",
              "[35976 rows x 9 columns]"
            ]
          },
          "metadata": {
            "tags": []
          },
          "execution_count": 218
        }
      ]
    },
    {
      "cell_type": "code",
      "metadata": {
        "id": "-xyimDYN1cgP",
        "colab_type": "code",
        "colab": {}
      },
      "source": [
        "from sklearn.preprocessing import OneHotEncoder\n",
        "from scipy.sparse import hstack\n",
        "\n",
        "cat_features=[\"Hour\",\"Day\",\"Month\",\"weekday\"]\n",
        "linear_enc=OneHotEncoder()\n",
        "one_hot_encoded=linear_enc.fit_transform(cons_lagged[cat_features]).toarray()\n",
        "normal_feats=cons_lagged.columns.difference(cat_features).tolist()\n",
        "cons_lagged=np.hstack([cons_lagged[normal_feats],one_hot_encoded])\n",
        "cons_lagged=pd.DataFrame(cons_lagged,columns=normal_feats+np.concatenate([[cat_features[i]+\"_\"+str(j) for j in cats_]for i,cats_ in enumerate(linear_enc.categories_)]).tolist())"
      ],
      "execution_count": 0,
      "outputs": []
    },
    {
      "cell_type": "code",
      "metadata": {
        "colab_type": "code",
        "id": "yVEMOYUTxDMm",
        "colab": {}
      },
      "source": [
        "train_df=cons_lagged.loc[cons_lagged[\"Datetime\"]<=pd.to_datetime(\"2019-03-03 23:00:00\")]\n",
        "valid_df=cons_lagged.loc[cons_lagged[\"Datetime\"]>pd.to_datetime(\"2019-03-03 23:00:00\")]"
      ],
      "execution_count": 0,
      "outputs": []
    },
    {
      "cell_type": "code",
      "metadata": {
        "colab_type": "code",
        "id": "yZLrA11kxDMo",
        "colab": {}
      },
      "source": [
        "from sklearn.linear_model import LinearRegression\n",
        "\n",
        "cons_lagged=cons_lagged.dropna()\n",
        "\n",
        "cols=train_df.columns.difference([\"Date\",\"Consumption\",\"Datetime\"]).values\n",
        "\n",
        "model=LinearRegression()\n",
        "model.fit(train_df[cols].values,train_df[\"Consumption\"].values.reshape(-1, 1))\n",
        "preds=model.predict(valid_df[cols].values)"
      ],
      "execution_count": 0,
      "outputs": []
    },
    {
      "cell_type": "code",
      "metadata": {
        "colab_type": "code",
        "outputId": "24b8cf69-be1a-4d0b-e448-93c9a0c55d47",
        "id": "Dx98-dsgxDMq",
        "colab": {
          "base_uri": "https://localhost:8080/",
          "height": 68
        }
      },
      "source": [
        "eval_df.append(eval_function(\"LR_2_7_w_dates\",valid_df[\"Consumption\"],preds))"
      ],
      "execution_count": 0,
      "outputs": [
        {
          "output_type": "stream",
          "text": [
            "RMSE:  2411.7410279998844\n",
            "RMSLE:  0.0762868233130247\n",
            "MAE:  1592.3783633510911\n"
          ],
          "name": "stdout"
        }
      ]
    },
    {
      "cell_type": "markdown",
      "metadata": {
        "id": "GHMtiQzRYcPM",
        "colab_type": "text"
      },
      "source": [
        "### LR Date cyclical"
      ]
    },
    {
      "cell_type": "code",
      "metadata": {
        "colab_type": "code",
        "outputId": "434e4aae-10fe-4af7-c774-274bd9554ae1",
        "id": "kw0yBPB6YW_l",
        "colab": {
          "base_uri": "https://localhost:8080/",
          "height": 419
        }
      },
      "source": [
        "cons_lagged=consumption_df.copy()\n",
        "cons_lagged[\"Consumption_2_lag\"]=cons_lagged[\"Consumption\"].shift(24*2)\n",
        "cons_lagged[\"Consumption_7_lag\"]=cons_lagged[\"Consumption\"].shift(24*7)\n",
        "cons_lagged[\"Hour\"]=cons_lagged[\"Hour\"].apply(lambda x:x.split(\":\")[0]).astype(int)\n",
        "cons_lagged[\"Day\"]=cons_lagged[\"Date\"].apply(lambda x:x.split(\".\")[0]).astype(int)\n",
        "cons_lagged[\"Month\"]=cons_lagged[\"Date\"].apply(lambda x:x.split(\".\")[1]).astype(int)\n",
        "cons_lagged[\"weekday\"]=pd.to_datetime(cons_lagged[\"Date\"]).apply(lambda x: x.weekday()).astype(int)\n",
        "cons_lagged=cons_lagged.dropna()\n",
        "cons_lagged"
      ],
      "execution_count": 0,
      "outputs": [
        {
          "output_type": "execute_result",
          "data": {
            "text/html": [
              "<div>\n",
              "<style scoped>\n",
              "    .dataframe tbody tr th:only-of-type {\n",
              "        vertical-align: middle;\n",
              "    }\n",
              "\n",
              "    .dataframe tbody tr th {\n",
              "        vertical-align: top;\n",
              "    }\n",
              "\n",
              "    .dataframe thead th {\n",
              "        text-align: right;\n",
              "    }\n",
              "</style>\n",
              "<table border=\"1\" class=\"dataframe\">\n",
              "  <thead>\n",
              "    <tr style=\"text-align: right;\">\n",
              "      <th></th>\n",
              "      <th>Date</th>\n",
              "      <th>Hour</th>\n",
              "      <th>Consumption</th>\n",
              "      <th>Datetime</th>\n",
              "      <th>Consumption_2_lag</th>\n",
              "      <th>Consumption_7_lag</th>\n",
              "      <th>Day</th>\n",
              "      <th>Month</th>\n",
              "      <th>weekday</th>\n",
              "    </tr>\n",
              "  </thead>\n",
              "  <tbody>\n",
              "    <tr>\n",
              "      <th>168</th>\n",
              "      <td>07.01.2016</td>\n",
              "      <td>0</td>\n",
              "      <td>28763.95</td>\n",
              "      <td>2016-07-01 00:00:00</td>\n",
              "      <td>29244.38</td>\n",
              "      <td>29590.88</td>\n",
              "      <td>7</td>\n",
              "      <td>1</td>\n",
              "      <td>4</td>\n",
              "    </tr>\n",
              "    <tr>\n",
              "      <th>169</th>\n",
              "      <td>07.01.2016</td>\n",
              "      <td>1</td>\n",
              "      <td>27284.84</td>\n",
              "      <td>2016-07-01 01:00:00</td>\n",
              "      <td>27637.23</td>\n",
              "      <td>27785.43</td>\n",
              "      <td>7</td>\n",
              "      <td>1</td>\n",
              "      <td>4</td>\n",
              "    </tr>\n",
              "    <tr>\n",
              "      <th>170</th>\n",
              "      <td>07.01.2016</td>\n",
              "      <td>2</td>\n",
              "      <td>26321.95</td>\n",
              "      <td>2016-07-01 02:00:00</td>\n",
              "      <td>26335.78</td>\n",
              "      <td>26516.53</td>\n",
              "      <td>7</td>\n",
              "      <td>1</td>\n",
              "      <td>4</td>\n",
              "    </tr>\n",
              "    <tr>\n",
              "      <th>171</th>\n",
              "      <td>07.01.2016</td>\n",
              "      <td>3</td>\n",
              "      <td>25748.49</td>\n",
              "      <td>2016-07-01 03:00:00</td>\n",
              "      <td>25870.23</td>\n",
              "      <td>26091.62</td>\n",
              "      <td>7</td>\n",
              "      <td>1</td>\n",
              "      <td>4</td>\n",
              "    </tr>\n",
              "    <tr>\n",
              "      <th>172</th>\n",
              "      <td>07.01.2016</td>\n",
              "      <td>4</td>\n",
              "      <td>25636.58</td>\n",
              "      <td>2016-07-01 04:00:00</td>\n",
              "      <td>25975.07</td>\n",
              "      <td>25871.54</td>\n",
              "      <td>7</td>\n",
              "      <td>1</td>\n",
              "      <td>4</td>\n",
              "    </tr>\n",
              "    <tr>\n",
              "      <th>...</th>\n",
              "      <td>...</td>\n",
              "      <td>...</td>\n",
              "      <td>...</td>\n",
              "      <td>...</td>\n",
              "      <td>...</td>\n",
              "      <td>...</td>\n",
              "      <td>...</td>\n",
              "      <td>...</td>\n",
              "      <td>...</td>\n",
              "    </tr>\n",
              "    <tr>\n",
              "      <th>36571</th>\n",
              "      <td>03.03.2020</td>\n",
              "      <td>19</td>\n",
              "      <td>37936.79</td>\n",
              "      <td>2020-03-03 19:00:00</td>\n",
              "      <td>35049.21</td>\n",
              "      <td>39283.70</td>\n",
              "      <td>3</td>\n",
              "      <td>3</td>\n",
              "      <td>1</td>\n",
              "    </tr>\n",
              "    <tr>\n",
              "      <th>36572</th>\n",
              "      <td>03.03.2020</td>\n",
              "      <td>20</td>\n",
              "      <td>37553.37</td>\n",
              "      <td>2020-03-03 20:00:00</td>\n",
              "      <td>34901.84</td>\n",
              "      <td>38791.40</td>\n",
              "      <td>3</td>\n",
              "      <td>3</td>\n",
              "      <td>1</td>\n",
              "    </tr>\n",
              "    <tr>\n",
              "      <th>36573</th>\n",
              "      <td>03.03.2020</td>\n",
              "      <td>21</td>\n",
              "      <td>36581.73</td>\n",
              "      <td>2020-03-03 21:00:00</td>\n",
              "      <td>34225.14</td>\n",
              "      <td>37588.86</td>\n",
              "      <td>3</td>\n",
              "      <td>3</td>\n",
              "      <td>1</td>\n",
              "    </tr>\n",
              "    <tr>\n",
              "      <th>36574</th>\n",
              "      <td>03.03.2020</td>\n",
              "      <td>22</td>\n",
              "      <td>35434.36</td>\n",
              "      <td>2020-03-03 22:00:00</td>\n",
              "      <td>33257.06</td>\n",
              "      <td>36290.64</td>\n",
              "      <td>3</td>\n",
              "      <td>3</td>\n",
              "      <td>1</td>\n",
              "    </tr>\n",
              "    <tr>\n",
              "      <th>36575</th>\n",
              "      <td>03.03.2020</td>\n",
              "      <td>23</td>\n",
              "      <td>33827.00</td>\n",
              "      <td>2020-03-03 23:00:00</td>\n",
              "      <td>31819.85</td>\n",
              "      <td>34580.08</td>\n",
              "      <td>3</td>\n",
              "      <td>3</td>\n",
              "      <td>1</td>\n",
              "    </tr>\n",
              "  </tbody>\n",
              "</table>\n",
              "<p>35976 rows × 9 columns</p>\n",
              "</div>"
            ],
            "text/plain": [
              "             Date  Hour  Consumption  ... Day  Month  weekday\n",
              "168    07.01.2016     0     28763.95  ...   7      1        4\n",
              "169    07.01.2016     1     27284.84  ...   7      1        4\n",
              "170    07.01.2016     2     26321.95  ...   7      1        4\n",
              "171    07.01.2016     3     25748.49  ...   7      1        4\n",
              "172    07.01.2016     4     25636.58  ...   7      1        4\n",
              "...           ...   ...          ...  ...  ..    ...      ...\n",
              "36571  03.03.2020    19     37936.79  ...   3      3        1\n",
              "36572  03.03.2020    20     37553.37  ...   3      3        1\n",
              "36573  03.03.2020    21     36581.73  ...   3      3        1\n",
              "36574  03.03.2020    22     35434.36  ...   3      3        1\n",
              "36575  03.03.2020    23     33827.00  ...   3      3        1\n",
              "\n",
              "[35976 rows x 9 columns]"
            ]
          },
          "metadata": {
            "tags": []
          },
          "execution_count": 213
        }
      ]
    },
    {
      "cell_type": "code",
      "metadata": {
        "id": "QBII1Tp8Sjx4",
        "colab_type": "code",
        "colab": {}
      },
      "source": [
        "cons_lagged['Hour_sin'] = np.sin(2 * np.pi * cons_lagged['Hour']/23.0)\n",
        "cons_lagged['Hour_cos'] = np.cos(2 * np.pi * cons_lagged['Hour']/23.0)\n",
        "\n",
        "cons_lagged['Day_sin'] = np.sin(2 * np.pi * cons_lagged['Day']/31.0)\n",
        "cons_lagged['Day_cos'] = np.cos(2 * np.pi * cons_lagged['Day']/31.0)\n",
        "\n",
        "cons_lagged['Month_sin'] = np.sin(2 * np.pi * cons_lagged['Month']/12.0)\n",
        "cons_lagged['Month_cos'] = np.cos(2 * np.pi * cons_lagged['Month']/12.0)\n",
        "\n",
        "cons_lagged['weekday_sin'] = np.sin(2 * np.pi * cons_lagged['weekday']/6.0)\n",
        "cons_lagged['weekday_cos'] = np.cos(2 * np.pi * cons_lagged['weekday']/6.0)\n",
        "\n",
        "del cons_lagged['Hour'],cons_lagged['Day'],cons_lagged['Month'],cons_lagged['weekday']"
      ],
      "execution_count": 0,
      "outputs": []
    },
    {
      "cell_type": "code",
      "metadata": {
        "colab_type": "code",
        "id": "x_-42FClYW_p",
        "colab": {}
      },
      "source": [
        "train_df=cons_lagged.loc[cons_lagged[\"Datetime\"]<=pd.to_datetime(\"2019-03-03 23:00:00\")]\n",
        "valid_df=cons_lagged.loc[cons_lagged[\"Datetime\"]>pd.to_datetime(\"2019-03-03 23:00:00\")]"
      ],
      "execution_count": 0,
      "outputs": []
    },
    {
      "cell_type": "code",
      "metadata": {
        "colab_type": "code",
        "id": "h9Rs0aY8YW_r",
        "colab": {}
      },
      "source": [
        "from sklearn.linear_model import LinearRegression\n",
        "\n",
        "cons_lagged=cons_lagged.dropna()\n",
        "\n",
        "cols=train_df.columns.difference([\"Date\",\"Consumption\",\"Datetime\"]).values\n",
        "\n",
        "model=LinearRegression()\n",
        "model.fit(train_df[cols].values,train_df[\"Consumption\"].values.reshape(-1, 1))\n",
        "preds=model.predict(valid_df[cols].values)"
      ],
      "execution_count": 0,
      "outputs": []
    },
    {
      "cell_type": "code",
      "metadata": {
        "colab_type": "code",
        "outputId": "129a2bbe-7364-4cfa-87a7-b753b43d87f2",
        "id": "CYEa8qnCYW_t",
        "colab": {
          "base_uri": "https://localhost:8080/",
          "height": 68
        }
      },
      "source": [
        "eval_df.append(eval_function(\"LR_2_7_w_dates\",valid_df[\"Consumption\"],preds))"
      ],
      "execution_count": 0,
      "outputs": [
        {
          "output_type": "stream",
          "text": [
            "RMSE:  2546.609637825625\n",
            "RMSLE:  0.08020123457490627\n",
            "MAE:  1689.0600541092615\n"
          ],
          "name": "stdout"
        }
      ]
    },
    {
      "cell_type": "code",
      "metadata": {
        "colab_type": "code",
        "outputId": "0847fe55-c720-4a81-e936-8834d86f33fe",
        "id": "pY6x-yWXYW_v",
        "colab": {
          "base_uri": "https://localhost:8080/",
          "height": 419
        }
      },
      "source": [
        "cons_lagged"
      ],
      "execution_count": 0,
      "outputs": [
        {
          "output_type": "execute_result",
          "data": {
            "text/html": [
              "<div>\n",
              "<style scoped>\n",
              "    .dataframe tbody tr th:only-of-type {\n",
              "        vertical-align: middle;\n",
              "    }\n",
              "\n",
              "    .dataframe tbody tr th {\n",
              "        vertical-align: top;\n",
              "    }\n",
              "\n",
              "    .dataframe thead th {\n",
              "        text-align: right;\n",
              "    }\n",
              "</style>\n",
              "<table border=\"1\" class=\"dataframe\">\n",
              "  <thead>\n",
              "    <tr style=\"text-align: right;\">\n",
              "      <th></th>\n",
              "      <th>Date</th>\n",
              "      <th>Hour</th>\n",
              "      <th>Consumption</th>\n",
              "      <th>Datetime</th>\n",
              "      <th>Consumption_2_lag</th>\n",
              "      <th>Consumption_7_lag</th>\n",
              "      <th>Day</th>\n",
              "      <th>Month</th>\n",
              "      <th>weekday</th>\n",
              "      <th>Hour_sin</th>\n",
              "      <th>Hour_cos</th>\n",
              "      <th>Day_sin</th>\n",
              "      <th>Day_cos</th>\n",
              "      <th>Month_sin</th>\n",
              "      <th>Month_cos</th>\n",
              "      <th>weekday_sin</th>\n",
              "      <th>weekday_cos</th>\n",
              "    </tr>\n",
              "  </thead>\n",
              "  <tbody>\n",
              "    <tr>\n",
              "      <th>168</th>\n",
              "      <td>07.01.2016</td>\n",
              "      <td>0</td>\n",
              "      <td>28763.95</td>\n",
              "      <td>2016-07-01 00:00:00</td>\n",
              "      <td>29244.38</td>\n",
              "      <td>29590.88</td>\n",
              "      <td>7</td>\n",
              "      <td>1</td>\n",
              "      <td>4</td>\n",
              "      <td>0.000000e+00</td>\n",
              "      <td>1.000000</td>\n",
              "      <td>0.988468</td>\n",
              "      <td>0.151428</td>\n",
              "      <td>0.5</td>\n",
              "      <td>8.660254e-01</td>\n",
              "      <td>-0.866025</td>\n",
              "      <td>-0.5</td>\n",
              "    </tr>\n",
              "    <tr>\n",
              "      <th>169</th>\n",
              "      <td>07.01.2016</td>\n",
              "      <td>1</td>\n",
              "      <td>27284.84</td>\n",
              "      <td>2016-07-01 01:00:00</td>\n",
              "      <td>27637.23</td>\n",
              "      <td>27785.43</td>\n",
              "      <td>7</td>\n",
              "      <td>1</td>\n",
              "      <td>4</td>\n",
              "      <td>2.697968e-01</td>\n",
              "      <td>0.962917</td>\n",
              "      <td>0.988468</td>\n",
              "      <td>0.151428</td>\n",
              "      <td>0.5</td>\n",
              "      <td>8.660254e-01</td>\n",
              "      <td>-0.866025</td>\n",
              "      <td>-0.5</td>\n",
              "    </tr>\n",
              "    <tr>\n",
              "      <th>170</th>\n",
              "      <td>07.01.2016</td>\n",
              "      <td>2</td>\n",
              "      <td>26321.95</td>\n",
              "      <td>2016-07-01 02:00:00</td>\n",
              "      <td>26335.78</td>\n",
              "      <td>26516.53</td>\n",
              "      <td>7</td>\n",
              "      <td>1</td>\n",
              "      <td>4</td>\n",
              "      <td>5.195840e-01</td>\n",
              "      <td>0.854419</td>\n",
              "      <td>0.988468</td>\n",
              "      <td>0.151428</td>\n",
              "      <td>0.5</td>\n",
              "      <td>8.660254e-01</td>\n",
              "      <td>-0.866025</td>\n",
              "      <td>-0.5</td>\n",
              "    </tr>\n",
              "    <tr>\n",
              "      <th>171</th>\n",
              "      <td>07.01.2016</td>\n",
              "      <td>3</td>\n",
              "      <td>25748.49</td>\n",
              "      <td>2016-07-01 03:00:00</td>\n",
              "      <td>25870.23</td>\n",
              "      <td>26091.62</td>\n",
              "      <td>7</td>\n",
              "      <td>1</td>\n",
              "      <td>4</td>\n",
              "      <td>7.308360e-01</td>\n",
              "      <td>0.682553</td>\n",
              "      <td>0.988468</td>\n",
              "      <td>0.151428</td>\n",
              "      <td>0.5</td>\n",
              "      <td>8.660254e-01</td>\n",
              "      <td>-0.866025</td>\n",
              "      <td>-0.5</td>\n",
              "    </tr>\n",
              "    <tr>\n",
              "      <th>172</th>\n",
              "      <td>07.01.2016</td>\n",
              "      <td>4</td>\n",
              "      <td>25636.58</td>\n",
              "      <td>2016-07-01 04:00:00</td>\n",
              "      <td>25975.07</td>\n",
              "      <td>25871.54</td>\n",
              "      <td>7</td>\n",
              "      <td>1</td>\n",
              "      <td>4</td>\n",
              "      <td>8.878852e-01</td>\n",
              "      <td>0.460065</td>\n",
              "      <td>0.988468</td>\n",
              "      <td>0.151428</td>\n",
              "      <td>0.5</td>\n",
              "      <td>8.660254e-01</td>\n",
              "      <td>-0.866025</td>\n",
              "      <td>-0.5</td>\n",
              "    </tr>\n",
              "    <tr>\n",
              "      <th>...</th>\n",
              "      <td>...</td>\n",
              "      <td>...</td>\n",
              "      <td>...</td>\n",
              "      <td>...</td>\n",
              "      <td>...</td>\n",
              "      <td>...</td>\n",
              "      <td>...</td>\n",
              "      <td>...</td>\n",
              "      <td>...</td>\n",
              "      <td>...</td>\n",
              "      <td>...</td>\n",
              "      <td>...</td>\n",
              "      <td>...</td>\n",
              "      <td>...</td>\n",
              "      <td>...</td>\n",
              "      <td>...</td>\n",
              "      <td>...</td>\n",
              "    </tr>\n",
              "    <tr>\n",
              "      <th>36571</th>\n",
              "      <td>03.03.2020</td>\n",
              "      <td>19</td>\n",
              "      <td>37936.79</td>\n",
              "      <td>2020-03-03 19:00:00</td>\n",
              "      <td>35049.21</td>\n",
              "      <td>39283.70</td>\n",
              "      <td>3</td>\n",
              "      <td>3</td>\n",
              "      <td>1</td>\n",
              "      <td>-8.878852e-01</td>\n",
              "      <td>0.460065</td>\n",
              "      <td>0.571268</td>\n",
              "      <td>0.820763</td>\n",
              "      <td>1.0</td>\n",
              "      <td>6.123234e-17</td>\n",
              "      <td>0.866025</td>\n",
              "      <td>0.5</td>\n",
              "    </tr>\n",
              "    <tr>\n",
              "      <th>36572</th>\n",
              "      <td>03.03.2020</td>\n",
              "      <td>20</td>\n",
              "      <td>37553.37</td>\n",
              "      <td>2020-03-03 20:00:00</td>\n",
              "      <td>34901.84</td>\n",
              "      <td>38791.40</td>\n",
              "      <td>3</td>\n",
              "      <td>3</td>\n",
              "      <td>1</td>\n",
              "      <td>-7.308360e-01</td>\n",
              "      <td>0.682553</td>\n",
              "      <td>0.571268</td>\n",
              "      <td>0.820763</td>\n",
              "      <td>1.0</td>\n",
              "      <td>6.123234e-17</td>\n",
              "      <td>0.866025</td>\n",
              "      <td>0.5</td>\n",
              "    </tr>\n",
              "    <tr>\n",
              "      <th>36573</th>\n",
              "      <td>03.03.2020</td>\n",
              "      <td>21</td>\n",
              "      <td>36581.73</td>\n",
              "      <td>2020-03-03 21:00:00</td>\n",
              "      <td>34225.14</td>\n",
              "      <td>37588.86</td>\n",
              "      <td>3</td>\n",
              "      <td>3</td>\n",
              "      <td>1</td>\n",
              "      <td>-5.195840e-01</td>\n",
              "      <td>0.854419</td>\n",
              "      <td>0.571268</td>\n",
              "      <td>0.820763</td>\n",
              "      <td>1.0</td>\n",
              "      <td>6.123234e-17</td>\n",
              "      <td>0.866025</td>\n",
              "      <td>0.5</td>\n",
              "    </tr>\n",
              "    <tr>\n",
              "      <th>36574</th>\n",
              "      <td>03.03.2020</td>\n",
              "      <td>22</td>\n",
              "      <td>35434.36</td>\n",
              "      <td>2020-03-03 22:00:00</td>\n",
              "      <td>33257.06</td>\n",
              "      <td>36290.64</td>\n",
              "      <td>3</td>\n",
              "      <td>3</td>\n",
              "      <td>1</td>\n",
              "      <td>-2.697968e-01</td>\n",
              "      <td>0.962917</td>\n",
              "      <td>0.571268</td>\n",
              "      <td>0.820763</td>\n",
              "      <td>1.0</td>\n",
              "      <td>6.123234e-17</td>\n",
              "      <td>0.866025</td>\n",
              "      <td>0.5</td>\n",
              "    </tr>\n",
              "    <tr>\n",
              "      <th>36575</th>\n",
              "      <td>03.03.2020</td>\n",
              "      <td>23</td>\n",
              "      <td>33827.00</td>\n",
              "      <td>2020-03-03 23:00:00</td>\n",
              "      <td>31819.85</td>\n",
              "      <td>34580.08</td>\n",
              "      <td>3</td>\n",
              "      <td>3</td>\n",
              "      <td>1</td>\n",
              "      <td>-2.449294e-16</td>\n",
              "      <td>1.000000</td>\n",
              "      <td>0.571268</td>\n",
              "      <td>0.820763</td>\n",
              "      <td>1.0</td>\n",
              "      <td>6.123234e-17</td>\n",
              "      <td>0.866025</td>\n",
              "      <td>0.5</td>\n",
              "    </tr>\n",
              "  </tbody>\n",
              "</table>\n",
              "<p>35976 rows × 17 columns</p>\n",
              "</div>"
            ],
            "text/plain": [
              "             Date  Hour  Consumption  ...     Month_cos  weekday_sin  weekday_cos\n",
              "168    07.01.2016     0     28763.95  ...  8.660254e-01    -0.866025         -0.5\n",
              "169    07.01.2016     1     27284.84  ...  8.660254e-01    -0.866025         -0.5\n",
              "170    07.01.2016     2     26321.95  ...  8.660254e-01    -0.866025         -0.5\n",
              "171    07.01.2016     3     25748.49  ...  8.660254e-01    -0.866025         -0.5\n",
              "172    07.01.2016     4     25636.58  ...  8.660254e-01    -0.866025         -0.5\n",
              "...           ...   ...          ...  ...           ...          ...          ...\n",
              "36571  03.03.2020    19     37936.79  ...  6.123234e-17     0.866025          0.5\n",
              "36572  03.03.2020    20     37553.37  ...  6.123234e-17     0.866025          0.5\n",
              "36573  03.03.2020    21     36581.73  ...  6.123234e-17     0.866025          0.5\n",
              "36574  03.03.2020    22     35434.36  ...  6.123234e-17     0.866025          0.5\n",
              "36575  03.03.2020    23     33827.00  ...  6.123234e-17     0.866025          0.5\n",
              "\n",
              "[35976 rows x 17 columns]"
            ]
          },
          "metadata": {
            "tags": []
          },
          "execution_count": 80
        }
      ]
    },
    {
      "cell_type": "code",
      "metadata": {
        "id": "od_8pX0BYuNF",
        "colab_type": "code",
        "colab": {}
      },
      "source": [
        "residuals=model.predict(train_df[cols].values,train_df[\"Consumption\"].)\n"
      ],
      "execution_count": 0,
      "outputs": []
    }
  ]
}