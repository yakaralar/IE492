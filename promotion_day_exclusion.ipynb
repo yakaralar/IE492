{
  "nbformat": 4,
  "nbformat_minor": 0,
  "metadata": {
    "colab": {
      "name": "promotion_day_exclusion.ipynb",
      "provenance": [],
      "authorship_tag": "ABX9TyOd4W4nolzkAkFtoswjN6Gn",
      "include_colab_link": true
    },
    "kernelspec": {
      "name": "python3",
      "display_name": "Python 3"
    }
  },
  "cells": [
    {
      "cell_type": "markdown",
      "metadata": {
        "id": "view-in-github",
        "colab_type": "text"
      },
      "source": [
        "<a href=\"https://colab.research.google.com/github/yakaralar/IE492/blob/master/promotion_day_exclusion.ipynb\" target=\"_parent\"><img src=\"https://colab.research.google.com/assets/colab-badge.svg\" alt=\"Open In Colab\"/></a>"
      ]
    },
    {
      "cell_type": "code",
      "metadata": {
        "id": "Ft4NbPsAQuwV",
        "colab_type": "code",
        "outputId": "b5f25914-8272-4c05-ba58-1c6322409b58",
        "colab": {
          "base_uri": "https://localhost:8080/",
          "height": 122
        }
      },
      "source": [
        "from google.colab import drive\n",
        "drive.mount('/content/drive')"
      ],
      "execution_count": 0,
      "outputs": [
        {
          "output_type": "stream",
          "text": [
            "Go to this URL in a browser: https://accounts.google.com/o/oauth2/auth?client_id=947318989803-6bn6qk8qdgf4n4g3pfee6491hc0brc4i.apps.googleusercontent.com&redirect_uri=urn%3aietf%3awg%3aoauth%3a2.0%3aoob&response_type=code&scope=email%20https%3a%2f%2fwww.googleapis.com%2fauth%2fdocs.test%20https%3a%2f%2fwww.googleapis.com%2fauth%2fdrive%20https%3a%2f%2fwww.googleapis.com%2fauth%2fdrive.photos.readonly%20https%3a%2f%2fwww.googleapis.com%2fauth%2fpeopleapi.readonly\n",
            "\n",
            "Enter your authorization code:\n",
            "··········\n",
            "Mounted at /content/drive\n"
          ],
          "name": "stdout"
        }
      ]
    },
    {
      "cell_type": "code",
      "metadata": {
        "id": "yK3GPaa0QwDD",
        "colab_type": "code",
        "outputId": "7f679a6d-a4dc-422e-da58-66655d0ab51e",
        "colab": {
          "base_uri": "https://localhost:8080/",
          "height": 34
        }
      },
      "source": [
        "import os\n",
        "import glob\n",
        "import shutil\n",
        "os.listdir()"
      ],
      "execution_count": 0,
      "outputs": [
        {
          "output_type": "execute_result",
          "data": {
            "text/plain": [
              "['.config', 'drive', 'sample_data']"
            ]
          },
          "metadata": {
            "tags": []
          },
          "execution_count": 2
        }
      ]
    },
    {
      "cell_type": "code",
      "metadata": {
        "id": "8dx9qj0CTCIb",
        "colab_type": "code",
        "outputId": "340d1ae1-27ad-49f7-a8c9-ee532de29936",
        "colab": {
          "base_uri": "https://localhost:8080/",
          "height": 187
        }
      },
      "source": [
        "os.listdir(\"drive/My Drive/colab_datas/IE 492\")"
      ],
      "execution_count": 0,
      "outputs": [
        {
          "output_type": "execute_result",
          "data": {
            "text/plain": [
              "['Comparison of methods.pdf',\n",
              " '1-s2.0-S1364032114000914-main.pdf',\n",
              " '1-s2.0-S0360544209002539-main.pdf',\n",
              " '1-s2.0-S1876610211043116-main.pdf',\n",
              " '1-s2.0-S0305048311001423-main.pdf',\n",
              " 'weather_turkey_processed.zip',\n",
              " 'Meta_L_makaleler',\n",
              " 'all_data.feather',\n",
              " 'UECM-15012015-20022020.csv',\n",
              " 'RealTimeConsumption-01122014-09032020.csv']"
            ]
          },
          "metadata": {
            "tags": []
          },
          "execution_count": 3
        }
      ]
    },
    {
      "cell_type": "code",
      "metadata": {
        "id": "-TB8bqSn7p-P",
        "colab_type": "code",
        "outputId": "f930ed87-dd0a-47ca-a6e4-7d0134e4cb40",
        "colab": {
          "base_uri": "https://localhost:8080/",
          "height": 34
        }
      },
      "source": [
        "shutil.copy(\"drive/My Drive/colab_datas/IE 492/RealTimeConsumption-01122014-09032020.csv\",\"./\")"
      ],
      "execution_count": 0,
      "outputs": [
        {
          "output_type": "execute_result",
          "data": {
            "text/plain": [
              "'./all_data.feather'"
            ]
          },
          "metadata": {
            "tags": []
          },
          "execution_count": 5
        }
      ]
    },
    {
      "cell_type": "code",
      "metadata": {
        "colab_type": "code",
        "id": "x9jTaYl-NpWL",
        "colab": {}
      },
      "source": [
        "import pandas as pd\n",
        "import numpy as np\n",
        "import matplotlib.pyplot as plt\n",
        "import seaborn as sns\n",
        "import pandas_profiling\n",
        "%matplotlib inline\n",
        "from tqdm import tqdm_notebook as tqdm"
      ],
      "execution_count": 0,
      "outputs": []
    },
    {
      "cell_type": "code",
      "metadata": {
        "id": "8iG1cx2XPlBH",
        "colab_type": "code",
        "colab": {}
      },
      "source": [
        ""
      ],
      "execution_count": 0,
      "outputs": []
    },
    {
      "cell_type": "markdown",
      "metadata": {
        "id": "P1g2AOA3PlGV",
        "colab_type": "text"
      },
      "source": [
        "# Datelar promosyon tipleri koyulacak, sonradan lineer regresyon direkt vermeme gerek yok "
      ]
    },
    {
      "cell_type": "code",
      "metadata": {
        "id": "70upe0G4P1Ki",
        "colab_type": "code",
        "colab": {}
      },
      "source": [
        ""
      ],
      "execution_count": 0,
      "outputs": []
    },
    {
      "cell_type": "markdown",
      "metadata": {
        "id": "ZdC21_Dhdl0v",
        "colab_type": "text"
      },
      "source": [
        "# Burada interpolasyon yapılacak gecen haftaki saatler özelinde \n",
        "#### U U U UWU UWAAA UWU https://www.youtube.com/watch?v=0OZyleriwRU"
      ]
    },
    {
      "cell_type": "code",
      "metadata": {
        "id": "3XeO0h51dyBy",
        "colab_type": "code",
        "colab": {}
      },
      "source": [
        ""
      ],
      "execution_count": 0,
      "outputs": []
    }
  ]
}